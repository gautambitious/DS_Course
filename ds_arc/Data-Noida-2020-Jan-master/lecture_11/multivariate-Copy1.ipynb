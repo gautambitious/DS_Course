{
 "cells": [
  {
   "cell_type": "code",
   "execution_count": 24,
   "metadata": {},
   "outputs": [],
   "source": [
    "from sklearn.datasets import make_regression\n",
    "import numpy as np\n",
    "import matplotlib.pyplot as plt"
   ]
  },
  {
   "cell_type": "code",
   "execution_count": 25,
   "metadata": {},
   "outputs": [],
   "source": [
    "X, y, coef = make_regression(n_samples=100, n_features=2, noise=5, random_state=42, coef=True)"
   ]
  },
  {
   "cell_type": "code",
   "execution_count": 26,
   "metadata": {},
   "outputs": [
    {
     "data": {
      "text/plain": [
       "array([87.73730719, 74.07686178])"
      ]
     },
     "execution_count": 26,
     "metadata": {},
     "output_type": "execute_result"
    }
   ],
   "source": [
    "coef"
   ]
  },
  {
   "cell_type": "code",
   "execution_count": 27,
   "metadata": {},
   "outputs": [],
   "source": [
    "from sklearn.model_selection import train_test_split\n",
    "\n",
    "X_train, X_test, y_train, y_test = train_test_split(X, y, test_size=0.33, random_state=42)\n"
   ]
  },
  {
   "cell_type": "code",
   "execution_count": 33,
   "metadata": {},
   "outputs": [],
   "source": [
    "class LinearRegCustom:\n",
    "    \n",
    "    def __init__(self, lr=.01, max_iters=20):\n",
    "        self.lr = lr\n",
    "        self.max_iters = max_iters\n",
    "        \n",
    "        \n",
    "    def fit(self, X, y):\n",
    "        \n",
    "        X = np.hstack([np.ones((X.shape[0], 1)), X])\n",
    "        \n",
    "        self.theta_ = np.random.randn(1, X.shape[1])\n",
    "        \n",
    "        errs = []\n",
    "        for i in range(self.max_iters):\n",
    "            #this line have been added for mini batch\n",
    "            indices = np.random.randint(0, len(X), len(X)//10)\n",
    "            self.gradient_decend(X[indices], y[indices])\n",
    "            errs.append(self.error(X, y))\n",
    "        \n",
    "        return errs\n",
    "            \n",
    "    def gradient_decend(self, X, y):\n",
    "        delta_theta = self.gradient(X, y)\n",
    "        self.theta_ += delta_theta\n",
    "        \n",
    "    def gradient(self, X, y):\n",
    "        ya = y.reshape(-1, 1)\n",
    "        yh = self.hypothesis(X)\n",
    "        e = yh - ya\n",
    "        \n",
    "        de2m = np.dot(e.T, X)/len(X)\n",
    "        \n",
    "        return -de2m*self.lr\n",
    "    \n",
    "    def error(self, X, y):\n",
    "        ya = y.reshape(-1, 1)\n",
    "        yh = self.hypothesis(X)\n",
    "        e = yh - ya\n",
    "        return np.mean(e**2)\n",
    "    \n",
    "    def hypothesis(self, X):\n",
    "        return np.dot(X, self.theta_.T)\n",
    "    \n",
    "    def predict(self, X):\n",
    "        X_mod = np.hstack([np.ones((X.shape[0], 1)), X])\n",
    "        return self.hypothesis(X_mod)"
   ]
  },
  {
   "cell_type": "code",
   "execution_count": 34,
   "metadata": {},
   "outputs": [
    {
     "data": {
      "image/png": "[encoded data removed]",
      "text/plain": [
       "<Figure size 432x288 with 1 Axes>"
      ]
     },
     "metadata": {
      "needs_background": "light"
     },
     "output_type": "display_data"
    }
   ],
   "source": [
    "m2 = LinearRegCustom(lr=.1)\n",
    "\n",
    "errors = m2.fit(X_train, y_train)\n",
    "\n",
    "plt.figure()\n",
    "plt.plot(errors)\n",
    "plt.show()"
   ]
  },
  {
   "cell_type": "code",
   "execution_count": null,
   "metadata": {},
   "outputs": [],
   "source": []
  },
  {
   "cell_type": "code",
   "execution_count": 36,
   "metadata": {},
   "outputs": [
    {
     "data": {
      "text/plain": [
       "array([[ -50.87134829],\n",
       "       [   0.60593591],\n",
       "       [  78.41341446],\n",
       "       [ -17.68992123],\n",
       "       [  62.24683464],\n",
       "       [ 104.86054205],\n",
       "       [ 177.31980769],\n",
       "       [-114.47385682],\n",
       "       [-166.75889814],\n",
       "       [ -48.6393941 ]])"
      ]
     },
     "execution_count": 36,
     "metadata": {},
     "output_type": "execute_result"
    }
   ],
   "source": [
    "m2.predict(X_test[:10])"
   ]
  },
  {
   "cell_type": "code",
   "execution_count": 38,
   "metadata": {},
   "outputs": [
    {
     "data": {
      "text/plain": [
       "array([ -53.96917117,    1.57590327,   83.23474413,  -26.98206658,\n",
       "         68.78873855,  125.76670994,  190.71591107, -115.26779066,\n",
       "       -188.93608596,  -52.57567661])"
      ]
     },
     "execution_count": 38,
     "metadata": {},
     "output_type": "execute_result"
    }
   ],
   "source": [
    "y_test[:10]"
   ]
  },
  {
   "cell_type": "code",
   "execution_count": 40,
   "metadata": {},
   "outputs": [
    {
     "data": {
      "text/plain": [
       "array([[ -50.87134829],\n",
       "       [   0.60593591],\n",
       "       [  78.41341446],\n",
       "       [ -17.68992123],\n",
       "       [  62.24683464],\n",
       "       [ 104.86054205],\n",
       "       [ 177.31980769],\n",
       "       [-114.47385682],\n",
       "       [-166.75889814],\n",
       "       [ -48.6393941 ]])"
      ]
     },
     "execution_count": 40,
     "metadata": {},
     "output_type": "execute_result"
    }
   ],
   "source": [
    "m2.predict(X_test[:10])"
   ]
  },
  {
   "cell_type": "code",
   "execution_count": null,
   "metadata": {},
   "outputs": [],
   "source": []
  }
 ],
 "metadata": {
  "kernelspec": {
   "display_name": "Python 3",
   "language": "python",
   "name": "python3"
  },
  "language_info": {
   "codemirror_mode": {
    "name": "ipython",
    "version": 3
   },
   "file_extension": ".py",
   "mimetype": "text/x-python",
   "name": "python",
   "nbconvert_exporter": "python",
   "pygments_lexer": "ipython3",
   "version": "3.7.2"
  }
 },
 "nbformat": 4,
 "nbformat_minor": 4
}
