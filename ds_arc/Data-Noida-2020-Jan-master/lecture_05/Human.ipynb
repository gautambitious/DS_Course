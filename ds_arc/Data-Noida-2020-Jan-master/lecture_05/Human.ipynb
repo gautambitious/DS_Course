{
 "cells": [
  {
   "cell_type": "code",
   "execution_count": 64,
   "metadata": {},
   "outputs": [],
   "source": [
    "class Human:\n",
    "    \n",
    "    def __init__(self, name=\"Unnamed\"):\n",
    "        self.name = name\n",
    "        self.balance = 1000\n",
    "        \n",
    "    def party(self):\n",
    "        if self.balance >= 100:\n",
    "            self.balance -= 100\n",
    "            print(\"Now i have : {}\".format(self.balance))\n",
    "        else:\n",
    "            print(\"Not enough balance\")\n",
    "            \n",
    "    \n",
    "    def udhaar(self, person, amount=500):\n",
    "        if amount <= 500 and person.balance >= amount:\n",
    "            person.balance -= amount\n",
    "            self.balance += amount"
   ]
  },
  {
   "cell_type": "code",
   "execution_count": 65,
   "metadata": {},
   "outputs": [],
   "source": [
    "ravi = Human(\"Ravi\")"
   ]
  },
  {
   "cell_type": "code",
   "execution_count": 66,
   "metadata": {},
   "outputs": [
    {
     "name": "stdout",
     "output_type": "stream",
     "text": [
      "Now i have : 900\n"
     ]
    }
   ],
   "source": [
    "Human.party(ravi)"
   ]
  },
  {
   "cell_type": "code",
   "execution_count": 67,
   "metadata": {},
   "outputs": [
    {
     "data": {
      "text/plain": [
       "900"
      ]
     },
     "execution_count": 67,
     "metadata": {},
     "output_type": "execute_result"
    }
   ],
   "source": [
    "ravi.balance"
   ]
  },
  {
   "cell_type": "code",
   "execution_count": 68,
   "metadata": {},
   "outputs": [
    {
     "name": "stdout",
     "output_type": "stream",
     "text": [
      "Now i have : 800\n",
      "Now i have : 700\n",
      "Now i have : 600\n",
      "Now i have : 500\n",
      "Now i have : 400\n",
      "Now i have : 300\n",
      "Now i have : 200\n",
      "Now i have : 100\n",
      "Now i have : 0\n",
      "Not enough balance\n",
      "Not enough balance\n",
      "Not enough balance\n",
      "Not enough balance\n",
      "Not enough balance\n"
     ]
    }
   ],
   "source": [
    "for i in range(14):\n",
    "    ravi.party()"
   ]
  },
  {
   "cell_type": "code",
   "execution_count": 69,
   "metadata": {},
   "outputs": [
    {
     "data": {
      "text/plain": [
       "0"
      ]
     },
     "execution_count": 69,
     "metadata": {},
     "output_type": "execute_result"
    }
   ],
   "source": [
    "ravi.balance"
   ]
  },
  {
   "cell_type": "code",
   "execution_count": 70,
   "metadata": {},
   "outputs": [],
   "source": [
    "mani = Human()"
   ]
  },
  {
   "cell_type": "code",
   "execution_count": 71,
   "metadata": {},
   "outputs": [
    {
     "data": {
      "text/plain": [
       "1000"
      ]
     },
     "execution_count": 71,
     "metadata": {},
     "output_type": "execute_result"
    }
   ],
   "source": [
    "mani.balance"
   ]
  },
  {
   "cell_type": "code",
   "execution_count": 72,
   "metadata": {},
   "outputs": [],
   "source": [
    "ravi.udhaar(mani)"
   ]
  },
  {
   "cell_type": "code",
   "execution_count": 73,
   "metadata": {},
   "outputs": [
    {
     "data": {
      "text/plain": [
       "500"
      ]
     },
     "execution_count": 73,
     "metadata": {},
     "output_type": "execute_result"
    }
   ],
   "source": [
    "ravi.balance"
   ]
  },
  {
   "cell_type": "code",
   "execution_count": 74,
   "metadata": {},
   "outputs": [],
   "source": [
    "# Human.udhaar(ravi, mani)"
   ]
  },
  {
   "cell_type": "code",
   "execution_count": 77,
   "metadata": {},
   "outputs": [],
   "source": [
    "ravi.udhaar(mani)"
   ]
  },
  {
   "cell_type": "code",
   "execution_count": 80,
   "metadata": {},
   "outputs": [
    {
     "data": {
      "text/plain": [
       "1000"
      ]
     },
     "execution_count": 80,
     "metadata": {},
     "output_type": "execute_result"
    }
   ],
   "source": [
    "ravi.balance"
   ]
  },
  {
   "cell_type": "code",
   "execution_count": null,
   "metadata": {},
   "outputs": [],
   "source": []
  },
  {
   "cell_type": "code",
   "execution_count": 104,
   "metadata": {},
   "outputs": [],
   "source": [
    "class Human:\n",
    "    \n",
    "    population = 0\n",
    "    uuid = 0\n",
    "    aadhar_index = {}\n",
    "    \n",
    "    def __init__(self, name=\"Unnamed\"):\n",
    "        self.name = name\n",
    "        self.balance = 1000\n",
    "        \n",
    "        Human.aadhar_index[Human.uuid] = self\n",
    "        \n",
    "        Human.population += 1\n",
    "        Human.uuid += 1\n",
    "        \n",
    "    def __repr__(self):\n",
    "        return \"{} - {}\".format(self.name, self.balance)\n",
    "        \n",
    "    def party(self):\n",
    "        if self.balance >= 100:\n",
    "            self.balance -= 100\n",
    "            print(\"Now i have : {}\".format(self.balance))\n",
    "        else:\n",
    "            print(\"Not enough balance\")\n",
    "            \n",
    "    \n",
    "    def udhaar(self, person, amount=500):\n",
    "        if amount <= 500 and person.balance >= amount:\n",
    "            person.balance -= amount\n",
    "            self.balance += amount"
   ]
  },
  {
   "cell_type": "code",
   "execution_count": 105,
   "metadata": {},
   "outputs": [],
   "source": [
    "ravi = Human(\"Ravi\")\n",
    "mohit = Human(\"Mohit\")"
   ]
  },
  {
   "cell_type": "code",
   "execution_count": 106,
   "metadata": {},
   "outputs": [
    {
     "data": {
      "text/plain": [
       "2"
      ]
     },
     "execution_count": 106,
     "metadata": {},
     "output_type": "execute_result"
    }
   ],
   "source": [
    "Human.population"
   ]
  },
  {
   "cell_type": "code",
   "execution_count": null,
   "metadata": {},
   "outputs": [],
   "source": []
  },
  {
   "cell_type": "code",
   "execution_count": 118,
   "metadata": {},
   "outputs": [
    {
     "name": "stdout",
     "output_type": "stream",
     "text": [
      "Ravi - 1000\n"
     ]
    }
   ],
   "source": [
    "print(ravi)"
   ]
  },
  {
   "cell_type": "code",
   "execution_count": 119,
   "metadata": {},
   "outputs": [
    {
     "data": {
      "text/plain": [
       "{0: Ravi - 1000, 1: Mohit - 1000}"
      ]
     },
     "execution_count": 119,
     "metadata": {},
     "output_type": "execute_result"
    }
   ],
   "source": [
    "mohit.aadhar_index"
   ]
  },
  {
   "cell_type": "code",
   "execution_count": 120,
   "metadata": {},
   "outputs": [],
   "source": [
    "amit = Human(\"Amit Kramchandi\")"
   ]
  },
  {
   "cell_type": "code",
   "execution_count": 123,
   "metadata": {},
   "outputs": [
    {
     "data": {
      "text/plain": [
       "{0: Ravi - 1000, 1: Mohit - 1000, 2: Amit Kramchandi - 900}"
      ]
     },
     "execution_count": 123,
     "metadata": {},
     "output_type": "execute_result"
    }
   ],
   "source": [
    "Human.aadhar_index"
   ]
  },
  {
   "cell_type": "code",
   "execution_count": 122,
   "metadata": {},
   "outputs": [
    {
     "name": "stdout",
     "output_type": "stream",
     "text": [
      "Now i have : 900\n"
     ]
    }
   ],
   "source": [
    "Human.aadhar_index[2].party()"
   ]
  },
  {
   "cell_type": "code",
   "execution_count": 124,
   "metadata": {},
   "outputs": [
    {
     "data": {
      "text/plain": [
       "900"
      ]
     },
     "execution_count": 124,
     "metadata": {},
     "output_type": "execute_result"
    }
   ],
   "source": [
    "amit.balance"
   ]
  },
  {
   "cell_type": "code",
   "execution_count": null,
   "metadata": {},
   "outputs": [],
   "source": []
  }
 ],
 "metadata": {
  "kernelspec": {
   "display_name": "Python 3",
   "language": "python",
   "name": "python3"
  },
  "language_info": {
   "codemirror_mode": {
    "name": "ipython",
    "version": 3
   },
   "file_extension": ".py",
   "mimetype": "text/x-python",
   "name": "python",
   "nbconvert_exporter": "python",
   "pygments_lexer": "ipython3",
   "version": "3.7.2"
  }
 },
 "nbformat": 4,
 "nbformat_minor": 4
}
