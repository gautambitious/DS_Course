{
 "cells": [
  {
   "cell_type": "code",
   "execution_count": 26,
   "metadata": {},
   "outputs": [],
   "source": [
    "class MediaPlayer:\n",
    "    \n",
    "    def start(self):\n",
    "        print(\"Start like generic MediaPlayer\")\n",
    "        \n",
    "    def stop(self):\n",
    "        print(\"Stop like generic MediaPlayer\")\n",
    "        \n",
    "\n",
    "class Engine:\n",
    "    \n",
    "    def __init__(self):\n",
    "        self.__active = False\n",
    "        self.__cycles = 10\n",
    "    \n",
    "    def start(self):\n",
    "        if not self.__active and self.__cycles >= 0:\n",
    "            self.__active = True\n",
    "            print(\"Start like generic Engine\")\n",
    "            self.__cycles -= 1\n",
    "        \n",
    "    def stop(self):\n",
    "        if self.__active:\n",
    "            self.__active = False\n",
    "            print(\"Stop like generic Engine\")\n",
    "            \n",
    "            \n",
    "\n",
    "class NitroEngine(Engine):\n",
    "    \n",
    "    def __init__(self):\n",
    "        super().__init__()\n",
    "        self.__active = False\n",
    "        self.__cycles = 10\n",
    "        \n",
    "    def start(self):\n",
    "        if not self.__active and self.__cycles >= 0:\n",
    "            self.__active = True\n",
    "            print(\"Start like Nitro Engine\")\n",
    "            self.__cycles -= 1\n",
    "        \n",
    "    def stop(self):\n",
    "        if self.__active:\n",
    "            self.__active = False\n",
    "            print(\"Stop like Nitro Engine\")"
   ]
  },
  {
   "cell_type": "code",
   "execution_count": 27,
   "metadata": {},
   "outputs": [],
   "source": [
    "class Car:\n",
    "    \n",
    "    def __init__(self):\n",
    "        self.__engine = Engine()\n",
    "        self.__mp3 = MediaPlayer()\n",
    "        \n",
    "    def start(self):\n",
    "        self.__engine.start()\n",
    "        self.__mp3.start()\n",
    "    \n",
    "    def stop(self):\n",
    "        self.__mp3.stop()\n",
    "        self.__engine.stop()\n",
    "        \n",
    "    def changeEngine(self, engine=None):\n",
    "        if engine == None:\n",
    "            self.__engine = Engine()\n",
    "        else:\n",
    "            self.__engine = engine"
   ]
  },
  {
   "cell_type": "code",
   "execution_count": 28,
   "metadata": {},
   "outputs": [],
   "source": [
    "myCar = Car()"
   ]
  },
  {
   "cell_type": "code",
   "execution_count": null,
   "metadata": {},
   "outputs": [],
   "source": []
  },
  {
   "cell_type": "code",
   "execution_count": 29,
   "metadata": {},
   "outputs": [
    {
     "name": "stdout",
     "output_type": "stream",
     "text": [
      "Start like generic Engine\n",
      "Start like generic MediaPlayer\n",
      "Stop like generic MediaPlayer\n",
      "Stop like generic Engine\n",
      "Start like generic Engine\n",
      "Start like generic MediaPlayer\n",
      "Stop like generic MediaPlayer\n",
      "Stop like generic Engine\n",
      "Start like generic Engine\n",
      "Start like generic MediaPlayer\n",
      "Stop like generic MediaPlayer\n",
      "Stop like generic Engine\n",
      "Start like generic Engine\n",
      "Start like generic MediaPlayer\n",
      "Stop like generic MediaPlayer\n",
      "Stop like generic Engine\n",
      "Start like generic Engine\n",
      "Start like generic MediaPlayer\n",
      "Stop like generic MediaPlayer\n",
      "Stop like generic Engine\n",
      "Start like generic Engine\n",
      "Start like generic MediaPlayer\n",
      "Stop like generic MediaPlayer\n",
      "Stop like generic Engine\n",
      "Start like generic Engine\n",
      "Start like generic MediaPlayer\n",
      "Stop like generic MediaPlayer\n",
      "Stop like generic Engine\n",
      "Start like generic Engine\n",
      "Start like generic MediaPlayer\n",
      "Stop like generic MediaPlayer\n",
      "Stop like generic Engine\n",
      "Start like generic Engine\n",
      "Start like generic MediaPlayer\n",
      "Stop like generic MediaPlayer\n",
      "Stop like generic Engine\n",
      "Start like generic Engine\n",
      "Start like generic MediaPlayer\n",
      "Stop like generic MediaPlayer\n",
      "Stop like generic Engine\n"
     ]
    }
   ],
   "source": [
    "for i in range(10):\n",
    "    myCar.start()\n",
    "    myCar.stop()"
   ]
  },
  {
   "cell_type": "code",
   "execution_count": 30,
   "metadata": {},
   "outputs": [
    {
     "name": "stdout",
     "output_type": "stream",
     "text": [
      "Start like generic Engine\n",
      "Start like generic MediaPlayer\n"
     ]
    }
   ],
   "source": [
    "myCar.start()"
   ]
  },
  {
   "cell_type": "code",
   "execution_count": 31,
   "metadata": {},
   "outputs": [],
   "source": [
    "myCar.changeEngine(NitroEngine())"
   ]
  },
  {
   "cell_type": "code",
   "execution_count": 32,
   "metadata": {},
   "outputs": [
    {
     "name": "stdout",
     "output_type": "stream",
     "text": [
      "Start like Nitro Engine\n",
      "Start like generic MediaPlayer\n"
     ]
    }
   ],
   "source": [
    "myCar.start()"
   ]
  },
  {
   "cell_type": "code",
   "execution_count": null,
   "metadata": {},
   "outputs": [],
   "source": []
  }
 ],
 "metadata": {
  "kernelspec": {
   "display_name": "Python 3",
   "language": "python",
   "name": "python3"
  },
  "language_info": {
   "codemirror_mode": {
    "name": "ipython",
    "version": 3
   },
   "file_extension": ".py",
   "mimetype": "text/x-python",
   "name": "python",
   "nbconvert_exporter": "python",
   "pygments_lexer": "ipython3",
   "version": "3.7.2"
  }
 },
 "nbformat": 4,
 "nbformat_minor": 4
}
