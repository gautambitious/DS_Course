{
 "cells": [
  {
   "cell_type": "code",
   "execution_count": 1,
   "metadata": {},
   "outputs": [],
   "source": [
    "import requests\n",
    "import random"
   ]
  },
  {
   "cell_type": "code",
   "execution_count": 2,
   "metadata": {},
   "outputs": [],
   "source": [
    "url = r\"https://cb.lk/speech\""
   ]
  },
  {
   "cell_type": "code",
   "execution_count": 3,
   "metadata": {},
   "outputs": [],
   "source": [
    "result = requests.get(url)"
   ]
  },
  {
   "cell_type": "code",
   "execution_count": 4,
   "metadata": {},
   "outputs": [],
   "source": [
    "text = result.text"
   ]
  },
  {
   "cell_type": "code",
   "execution_count": 5,
   "metadata": {},
   "outputs": [],
   "source": [
    "seq = text.lower().split()"
   ]
  },
  {
   "cell_type": "code",
   "execution_count": 6,
   "metadata": {},
   "outputs": [
    {
     "data": {
      "text/plain": [
       "293586"
      ]
     },
     "execution_count": 6,
     "metadata": {},
     "output_type": "execute_result"
    }
   ],
   "source": [
    "len(seq)"
   ]
  },
  {
   "cell_type": "code",
   "execution_count": 7,
   "metadata": {},
   "outputs": [],
   "source": [
    "k = 3\n",
    "\n",
    "words = {}\n",
    "\n",
    "for i in range(k, len(seq)):\n",
    "    cut = tuple(seq[i-k:i])\n",
    "    next_word = seq[i]\n",
    "    \n",
    "    if cut not in words:\n",
    "        words[cut] = {}\n",
    "        \n",
    "    if next_word not in words[cut]:\n",
    "        words[cut][next_word] = 0\n",
    "    \n",
    "    words[cut][next_word] += 1\n",
    "    "
   ]
  },
  {
   "cell_type": "code",
   "execution_count": 9,
   "metadata": {},
   "outputs": [],
   "source": [
    "# words"
   ]
  },
  {
   "cell_type": "code",
   "execution_count": 19,
   "metadata": {},
   "outputs": [],
   "source": [
    "seed = seq[50:60]"
   ]
  },
  {
   "cell_type": "code",
   "execution_count": 20,
   "metadata": {},
   "outputs": [
    {
     "name": "stdout",
     "output_type": "stream",
     "text": [
      "['for', 'transforming', 'india', 'or', 'niti.', 'niti', 'was', 'created', 'as', 'an']\n"
     ]
    }
   ],
   "source": [
    "print(seed)"
   ]
  },
  {
   "cell_type": "code",
   "execution_count": 21,
   "metadata": {},
   "outputs": [],
   "source": [
    "for i in range(500):\n",
    "    cut = tuple(seed[-k:])\n",
    "    sorted_words = sorted(words[cut].items() , key = lambda item : -item[1])\n",
    "    top_three = sorted_words[:1]\n",
    "    best_chr = random.choice(top_three)[0]\n",
    "    seed.append(best_chr)"
   ]
  },
  {
   "cell_type": "code",
   "execution_count": 22,
   "metadata": {},
   "outputs": [
    {
     "name": "stdout",
     "output_type": "stream",
     "text": [
      "for transforming india or niti. niti was created as an evidence based think tank to guide india’s transformation. one of niti’s functions is: - to mainstream external ideas into government policies, through collaboration with national and international experts; - to be the government’s link to the outside world, outside experts and practitioners; - to be the government’s link to the outside world, outside experts and practitioners; - to be the government’s link to the outside world, outside experts and practitioners; - to be the government’s link to the outside world, outside experts and practitioners; - to be the government’s link to the outside world, outside experts and practitioners; - to be the government’s link to the outside world, outside experts and practitioners; - to be the government’s link to the outside world, outside experts and practitioners; - to be the government’s link to the outside world, outside experts and practitioners; - to be the government’s link to the outside world, outside experts and practitioners; - to be the government’s link to the outside world, outside experts and practitioners; - to be the government’s link to the outside world, outside experts and practitioners; - to be the government’s link to the outside world, outside experts and practitioners; - to be the government’s link to the outside world, outside experts and practitioners; - to be the government’s link to the outside world, outside experts and practitioners; - to be the government’s link to the outside world, outside experts and practitioners; - to be the government’s link to the outside world, outside experts and practitioners; - to be the government’s link to the outside world, outside experts and practitioners; - to be the government’s link to the outside world, outside experts and practitioners; - to be the government’s link to the outside world, outside experts and practitioners; - to be the government’s link to the outside world, outside experts and practitioners; - to be the government’s link to the outside world, outside experts and practitioners; - to be the government’s link to the outside world, outside experts and practitioners; - to be the government’s link to the outside world, outside experts and practitioners; - to be the government’s link to the outside world, outside experts and practitioners; - to be the government’s link to the outside world, outside experts and practitioners; - to be the government’s link to the outside world, outside experts and practitioners; - to be the government’s link to the outside world, outside experts and practitioners; - to be the government’s link to the outside world, outside experts and practitioners; - to be the government’s link to the outside world, outside experts and practitioners; - to be the government’s link to the outside world, outside experts and practitioners; - to be the government’s link to the outside world, outside experts and practitioners; - to be the government’s link to the outside world, outside experts and practitioners; - to be the government’s link to the outside world, outside experts and practitioners; - to be the government’s link to the outside world,\n"
     ]
    }
   ],
   "source": [
    "print(\" \".join(seed))"
   ]
  },
  {
   "cell_type": "code",
   "execution_count": null,
   "metadata": {},
   "outputs": [],
   "source": []
  },
  {
   "cell_type": "code",
   "execution_count": 90,
   "metadata": {},
   "outputs": [],
   "source": [
    "li = [55, 67]"
   ]
  },
  {
   "cell_type": "code",
   "execution_count": 95,
   "metadata": {},
   "outputs": [
    {
     "data": {
      "text/plain": [
       "[]"
      ]
     },
     "execution_count": 95,
     "metadata": {},
     "output_type": "execute_result"
    }
   ],
   "source": [
    "li[5:7]"
   ]
  },
  {
   "cell_type": "code",
   "execution_count": null,
   "metadata": {},
   "outputs": [],
   "source": []
  },
  {
   "cell_type": "code",
   "execution_count": 42,
   "metadata": {},
   "outputs": [
    {
     "data": {
      "text/plain": [
       "[12, 45, -67]"
      ]
     },
     "execution_count": 42,
     "metadata": {},
     "output_type": "execute_result"
    }
   ],
   "source": [
    "sorted([45, -67, 12], key = lambda item : abs(item))"
   ]
  },
  {
   "cell_type": "code",
   "execution_count": 47,
   "metadata": {},
   "outputs": [],
   "source": [
    "li = [[65, -67],[50, 12]]"
   ]
  },
  {
   "cell_type": "code",
   "execution_count": 100,
   "metadata": {},
   "outputs": [
    {
     "data": {
      "text/plain": [
       "[(' ', 8), ('l', 2), ('.', 1), ('i', 1)]"
      ]
     },
     "execution_count": 100,
     "metadata": {},
     "output_type": "execute_result"
    }
   ],
   "source": [
    "sorted(words[\"external\"].items() , key = lambda item : -item[1])"
   ]
  },
  {
   "cell_type": "code",
   "execution_count": 119,
   "metadata": {},
   "outputs": [],
   "source": [
    "s = \" \" "
   ]
  },
  {
   "cell_type": "code",
   "execution_count": null,
   "metadata": {},
   "outputs": [],
   "source": []
  },
  {
   "cell_type": "code",
   "execution_count": null,
   "metadata": {},
   "outputs": [],
   "source": []
  }
 ],
 "metadata": {
  "kernelspec": {
   "display_name": "Python 3",
   "language": "python",
   "name": "python3"
  },
  "language_info": {
   "codemirror_mode": {
    "name": "ipython",
    "version": 3
   },
   "file_extension": ".py",
   "mimetype": "text/x-python",
   "name": "python",
   "nbconvert_exporter": "python",
   "pygments_lexer": "ipython3",
   "version": "3.7.2"
  }
 },
 "nbformat": 4,
 "nbformat_minor": 4
}
