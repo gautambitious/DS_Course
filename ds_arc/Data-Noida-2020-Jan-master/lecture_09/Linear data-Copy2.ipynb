{
 "cells": [
  {
   "cell_type": "code",
   "execution_count": 75,
   "metadata": {},
   "outputs": [],
   "source": [
    "import numpy as np\n",
    "import matplotlib.pyplot as plt\n",
    "\n",
    "from sklearn.datasets import make_regression"
   ]
  },
  {
   "cell_type": "code",
   "execution_count": 77,
   "metadata": {},
   "outputs": [],
   "source": [
    "X, y = make_regression(n_features=1, bias=100, noise=5, random_state=42)"
   ]
  },
  {
   "cell_type": "code",
   "execution_count": 78,
   "metadata": {},
   "outputs": [
    {
     "data": {
      "text/plain": [
       "<matplotlib.collections.PathCollection at 0x1a214e2b70>"
      ]
     },
     "execution_count": 78,
     "metadata": {},
     "output_type": "execute_result"
    },
    {
     "data": {
      "image/png": "[encoded data removed]",
      "text/plain": [
       "<Figure size 432x288 with 1 Axes>"
      ]
     },
     "metadata": {
      "needs_background": "light"
     },
     "output_type": "display_data"
    }
   ],
   "source": [
    "plt.scatter(X, y)"
   ]
  },
  {
   "cell_type": "code",
   "execution_count": 95,
   "metadata": {},
   "outputs": [],
   "source": [
    "class CustomLinearReg:\n",
    "    \n",
    "    \n",
    "    def __init__(self, lr=.1, max_iters=10):\n",
    "        self.lr = lr\n",
    "        self.max_iters = max_iters\n",
    "        \n",
    "    def fit(self, X, y):\n",
    "        \n",
    "        self.coef_ = np.random.random()\n",
    "        self.intercept_ = np.random.random()\n",
    "        \n",
    "        for _ in range(self.max_iters):\n",
    "            self.gradient_decend(X, y)\n",
    "            \n",
    "    def gradient_decend(self, X, y):\n",
    "        \n",
    "        delta_coef, delta_inter = self.gradient(X, y)\n",
    "        print(delta_coef, delta_inter)\n",
    "        \n",
    "        self.coef_ += delta_coef\n",
    "        self.intercept_ += delta_inter\n",
    "        \n",
    "    def gradient(self, X, y):\n",
    "        \n",
    "        yp = self.predict(X)\n",
    "        diff = (yp - y)\n",
    "        \n",
    "        d_err_coef = np.mean(diff * X)\n",
    "        d_err_inter = np.mean(diff)\n",
    "        \n",
    "        return -d_err_coef * self.lr, -d_err_inter * self.lr\n",
    "    \n",
    "    def predict(self, X):\n",
    "        return X * self.coef_ + self.intercept_"
   ]
  },
  {
   "cell_type": "code",
   "execution_count": 109,
   "metadata": {},
   "outputs": [],
   "source": [
    "model = CustomLinearReg(lr = .2, max_iters=30)"
   ]
  },
  {
   "cell_type": "code",
   "execution_count": 110,
   "metadata": {},
   "outputs": [
    {
     "name": "stdout",
     "output_type": "stream",
     "text": [
      "4.899782596728055 19.19481491553318\n",
      "4.4877213367561914 15.457617004158227\n",
      "4.066221253969417 12.459300449698041\n",
      "3.652190159008631 10.051892942994145\n",
      "3.2566649930876097 8.11736780017012\n",
      "2.8864051792178596 6.561532903706378\n",
      "2.54509541309674 5.309174948095112\n",
      "2.23424858806559 4.300199817493246\n",
      "1.9538791592998668 3.4865636409672507\n",
      "1.7030013524677825 2.82983162199424\n",
      "1.4799942367462244 2.299235449509632\n",
      "1.2828660461764265 1.8701268090575902\n",
      "1.1094426465791662 1.5227456814817817\n",
      "0.9574992369186544 1.2412388962045724\n",
      "0.824849875228177 1.0128777091959578\n",
      "0.709405941102776 0.8274337247398448\n",
      "0.6092119632440671 0.6766808470723159\n",
      "0.522465174816827 0.5539975858053955\n",
      "0.447523573312313 0.45404930641720187\n",
      "0.38290604738045864 0.37253419804180965\n",
      "0.32728720660417593 0.30598005033536835\n",
      "0.2794888459427847 0.2515815675869926\n",
      "0.23846944360676037 0.2070700427299239\n",
      "0.2033126898473405 0.17060887842863298\n",
      "0.17321574383278876 0.1407097656994398\n",
      "0.1474776926450293 0.11616538291052401\n",
      "0.125488522070337 0.09599531528331998\n",
      "0.10671878908258643 0.07940256142464369\n",
      "0.09071009980139541 0.06573852405706297\n",
      "0.0770664358611548 0.05447480483701861\n"
     ]
    }
   ],
   "source": [
    "model.fit(X.flatten(), y)"
   ]
  },
  {
   "cell_type": "code",
   "execution_count": 111,
   "metadata": {},
   "outputs": [
    {
     "data": {
      "text/plain": [
       "(42.65964184636869, 100.3120539757467)"
      ]
     },
     "execution_count": 111,
     "metadata": {},
     "output_type": "execute_result"
    }
   ],
   "source": [
    "model.coef_, model.intercept_"
   ]
  },
  {
   "cell_type": "code",
   "execution_count": 112,
   "metadata": {},
   "outputs": [],
   "source": [
    "yp = model.predict(X.flatten())"
   ]
  },
  {
   "cell_type": "code",
   "execution_count": 113,
   "metadata": {},
   "outputs": [
    {
     "data": {
      "text/plain": [
       "<matplotlib.collections.PathCollection at 0x1a21756b38>"
      ]
     },
     "execution_count": 113,
     "metadata": {},
     "output_type": "execute_result"
    },
    {
     "data": {
      "image/png": "[encoded data removed]",
      "text/plain": [
       "<Figure size 432x288 with 1 Axes>"
      ]
     },
     "metadata": {
      "needs_background": "light"
     },
     "output_type": "display_data"
    }
   ],
   "source": [
    "plt.scatter(X, y)\n",
    "plt.scatter(X, yp)"
   ]
  },
  {
   "cell_type": "code",
   "execution_count": null,
   "metadata": {},
   "outputs": [],
   "source": []
  },
  {
   "cell_type": "code",
   "execution_count": null,
   "metadata": {},
   "outputs": [],
   "source": []
  },
  {
   "cell_type": "code",
   "execution_count": null,
   "metadata": {},
   "outputs": [],
   "source": []
  }
 ],
 "metadata": {
  "kernelspec": {
   "display_name": "Python 3",
   "language": "python",
   "name": "python3"
  },
  "language_info": {
   "codemirror_mode": {
    "name": "ipython",
    "version": 3
   },
   "file_extension": ".py",
   "mimetype": "text/x-python",
   "name": "python",
   "nbconvert_exporter": "python",
   "pygments_lexer": "ipython3",
   "version": "3.7.2"
  }
 },
 "nbformat": 4,
 "nbformat_minor": 4
}
