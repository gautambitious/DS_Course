{
 "cells": [
  {
   "cell_type": "code",
   "execution_count": 4,
   "metadata": {},
   "outputs": [],
   "source": [
    "import numpy as np\n",
    "import matplotlib.pyplot as plt"
   ]
  },
  {
   "cell_type": "code",
   "execution_count": 5,
   "metadata": {},
   "outputs": [],
   "source": [
    "m = 5\n",
    "c = 100"
   ]
  },
  {
   "cell_type": "code",
   "execution_count": 6,
   "metadata": {},
   "outputs": [],
   "source": [
    "X = np.linspace(0, 100, 100)"
   ]
  },
  {
   "cell_type": "code",
   "execution_count": 7,
   "metadata": {},
   "outputs": [],
   "source": [
    "y = (m * X + c) + np.random.randint(-25, 25, 100)"
   ]
  },
  {
   "cell_type": "code",
   "execution_count": 8,
   "metadata": {},
   "outputs": [
    {
     "data": {
      "text/plain": [
       "<matplotlib.collections.PathCollection at 0x112ea7ac8>"
      ]
     },
     "execution_count": 8,
     "metadata": {},
     "output_type": "execute_result"
    },
    {
     "data": {
      "image/png": "[encoded data removed]",
      "text/plain": [
       "<Figure size 432x288 with 1 Axes>"
      ]
     },
     "metadata": {
      "needs_background": "light"
     },
     "output_type": "display_data"
    }
   ],
   "source": [
    "plt.scatter(X, y)"
   ]
  },
  {
   "cell_type": "code",
   "execution_count": 9,
   "metadata": {},
   "outputs": [],
   "source": [
    "class CustomLinearReg:\n",
    "    \n",
    "    \n",
    "    def __init__(self, lr=.1, max_iters=10):\n",
    "        self.lr = lr\n",
    "        self.max_iters = max_iters\n",
    "        \n",
    "    def fit(self, X, y):\n",
    "        \n",
    "        self.coef_ = np.random.random()\n",
    "        \n",
    "        for _ in range(self.max_iters):\n",
    "            self.gradient_decend(X, y)\n",
    "            \n",
    "    def gradient_decend(self, X, y):\n",
    "        \n",
    "        delta_coef = self.gradient(X, y)\n",
    "        print(delta_coef)\n",
    "        \n",
    "        self.coef_ += delta_coef\n",
    "        \n",
    "    def gradient(self, X, y):\n",
    "        \n",
    "        yp = self.predict(X)\n",
    "        diff = (yp - y)\n",
    "        d_err = np.mean(diff * (X**2))\n",
    "        \n",
    "        return - d_err * self.lr\n",
    "    \n",
    "    def predict(self, X):\n",
    "        return (X**2) * self.coef_"
   ]
  },
  {
   "cell_type": "code",
   "execution_count": 18,
   "metadata": {},
   "outputs": [],
   "source": [
    "model = CustomLinearReg(lr = .00000002, max_iters=100)"
   ]
  },
  {
   "cell_type": "code",
   "execution_count": 19,
   "metadata": {},
   "outputs": [
    {
     "name": "stdout",
     "output_type": "stream",
     "text": [
      "-0.009027341015485607\n",
      "-0.0053616326676490115\n",
      "-0.003184448755562456\n",
      "-0.00189134812199841\n",
      "-0.00112333342225665\n",
      "-0.0006671844082439622\n",
      "-0.00039626261071233686\n",
      "-0.00023535330668449984\n",
      "-0.00013978401562477478\n",
      "-8.302229231213471e-05\n",
      "-4.930965096369577e-05\n",
      "-2.928661219109758e-05\n",
      "-1.73942754991984e-05\n",
      "-1.0331028326792875e-05\n",
      "-6.135935141071957e-06\n",
      "-3.644332283728989e-06\n",
      "-2.164487969459081e-06\n",
      "-1.2855600985821803e-06\n",
      "-7.635361297372728e-07\n",
      "-4.5348904501362706e-07\n",
      "-2.6934195506814867e-07\n",
      "-1.59970983988652e-07\n",
      "-9.50119921425823e-08\n",
      "-5.6430725281406195e-08\n",
      "-3.35160508046858e-08\n",
      "-1.9906277226051318e-08\n",
      "-1.1822988197067753e-08\n",
      "-7.022058835066854e-09\n",
      "-4.170630086120218e-09\n",
      "-2.477073422074318e-09\n",
      "-1.4712148077320309e-09\n",
      "-8.738025265745819e-10\n",
      "-5.18979859072715e-10\n",
      "-3.0823908783495426e-10\n",
      "-1.8307326226495208e-10\n",
      "-1.0873318850062788e-10\n",
      "-6.458019199781121e-11\n",
      "-3.835628633387387e-11\n",
      "-2.2781049227342012e-11\n",
      "-1.3530406821519137e-11\n",
      "-8.036148780956865e-12\n",
      "-4.772928077727557e-12\n",
      "-2.8347969986498355e-12\n",
      "-1.6836759634315967e-12\n",
      "-9.999881498515607e-13\n",
      "-5.939240101724864e-13\n",
      "-3.527498338371515e-13\n",
      "-2.0951051265001297e-13\n",
      "-1.2443466112017633e-13\n",
      "-7.390785031020642e-14\n",
      "-4.389453679323197e-14\n",
      "-2.6070186868309975e-14\n",
      "-1.548146829009056e-14\n",
      "-9.192526340484619e-15\n",
      "-5.462486296892166e-15\n",
      "-3.241607919335365e-15\n",
      "-1.923041418194771e-15\n",
      "-1.1396128684282302e-15\n",
      "-6.77863135933876e-16\n",
      "-4.0172599256038667e-16\n",
      "-2.380926162004471e-16\n",
      "-1.4239922165870666e-16\n",
      "-8.596107363700868e-17\n",
      "-5.192123353481293e-17\n",
      "-3.0081719160079954e-17\n",
      "-1.8579885363578796e-17\n",
      "-1.2619420886039734e-17\n",
      "-7.124617695808411e-18\n",
      "-9.778887033462523e-19\n",
      "-9.778887033462523e-19\n",
      "-9.778887033462523e-19\n",
      "-9.778887033462523e-19\n",
      "-9.778887033462523e-19\n",
      "-9.778887033462523e-19\n",
      "-9.778887033462523e-19\n",
      "-9.778887033462523e-19\n",
      "-9.778887033462523e-19\n",
      "-9.778887033462523e-19\n",
      "-9.778887033462523e-19\n",
      "-9.778887033462523e-19\n",
      "-9.778887033462523e-19\n",
      "-9.778887033462523e-19\n",
      "-9.778887033462523e-19\n",
      "-9.778887033462523e-19\n",
      "-9.778887033462523e-19\n",
      "-9.778887033462523e-19\n",
      "-9.778887033462523e-19\n",
      "-9.778887033462523e-19\n",
      "-9.778887033462523e-19\n",
      "-9.778887033462523e-19\n",
      "-9.778887033462523e-19\n",
      "-9.778887033462523e-19\n",
      "-9.778887033462523e-19\n",
      "-9.778887033462523e-19\n",
      "-9.778887033462523e-19\n",
      "-9.778887033462523e-19\n",
      "-9.778887033462523e-19\n",
      "-9.778887033462523e-19\n",
      "-9.778887033462523e-19\n",
      "-9.778887033462523e-19\n"
     ]
    }
   ],
   "source": [
    "model.fit(X, y)"
   ]
  },
  {
   "cell_type": "code",
   "execution_count": 20,
   "metadata": {},
   "outputs": [
    {
     "data": {
      "text/plain": [
       "0.07862699862997265"
      ]
     },
     "execution_count": 20,
     "metadata": {},
     "output_type": "execute_result"
    }
   ],
   "source": [
    "model.coef_"
   ]
  },
  {
   "cell_type": "code",
   "execution_count": 21,
   "metadata": {},
   "outputs": [],
   "source": [
    "yp = model.predict(X)"
   ]
  },
  {
   "cell_type": "code",
   "execution_count": 22,
   "metadata": {},
   "outputs": [
    {
     "data": {
      "text/plain": [
       "<matplotlib.collections.PathCollection at 0x112edd4e0>"
      ]
     },
     "execution_count": 22,
     "metadata": {},
     "output_type": "execute_result"
    },
    {
     "data": {
      "image/png": "[encoded data removed]",
      "text/plain": [
       "<Figure size 432x288 with 1 Axes>"
      ]
     },
     "metadata": {
      "needs_background": "light"
     },
     "output_type": "display_data"
    }
   ],
   "source": [
    "plt.scatter(X, y)\n",
    "plt.scatter(X, yp)"
   ]
  },
  {
   "cell_type": "code",
   "execution_count": null,
   "metadata": {},
   "outputs": [],
   "source": []
  },
  {
   "cell_type": "code",
   "execution_count": null,
   "metadata": {},
   "outputs": [],
   "source": []
  },
  {
   "cell_type": "code",
   "execution_count": null,
   "metadata": {},
   "outputs": [],
   "source": []
  }
 ],
 "metadata": {
  "kernelspec": {
   "display_name": "Python 3",
   "language": "python",
   "name": "python3"
  },
  "language_info": {
   "codemirror_mode": {
    "name": "ipython",
    "version": 3
   },
   "file_extension": ".py",
   "mimetype": "text/x-python",
   "name": "python",
   "nbconvert_exporter": "python",
   "pygments_lexer": "ipython3",
   "version": "3.7.2"
  }
 },
 "nbformat": 4,
 "nbformat_minor": 4
}
