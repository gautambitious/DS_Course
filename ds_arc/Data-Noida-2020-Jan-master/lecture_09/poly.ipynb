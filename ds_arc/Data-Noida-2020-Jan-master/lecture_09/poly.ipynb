{
 "cells": [
  {
   "cell_type": "code",
   "execution_count": 2,
   "metadata": {},
   "outputs": [],
   "source": [
    "import numpy as np\n",
    "import matplotlib.pyplot as plt"
   ]
  },
  {
   "cell_type": "code",
   "execution_count": 56,
   "metadata": {},
   "outputs": [
    {
     "data": {
      "text/plain": [
       "<matplotlib.collections.PathCollection at 0x12189c0f0>"
      ]
     },
     "execution_count": 56,
     "metadata": {},
     "output_type": "execute_result"
    },
    {
     "data": {
      "image/png": "[encoded data removed]",
      "text/plain": [
       "<Figure size 432x288 with 1 Axes>"
      ]
     },
     "metadata": {
      "needs_background": "light"
     },
     "output_type": "display_data"
    }
   ],
   "source": [
    "a = 10\n",
    "b = .5\n",
    "\n",
    "X = np.linspace(-10, 10, 100)\n",
    "\n",
    "y = (a * X) * (np.sin(b*X)) + np.random.randint(-20, 20, 100) \n",
    "\n",
    "plt.scatter(X, y)"
   ]
  },
  {
   "cell_type": "code",
   "execution_count": 57,
   "metadata": {},
   "outputs": [],
   "source": [
    "class CustomLinearReg:\n",
    "    \n",
    "    \n",
    "    def __init__(self, lr=.1, max_iters=10):\n",
    "        self.lr = lr\n",
    "        self.max_iters = max_iters\n",
    "        \n",
    "    def fit(self, X, y):\n",
    "        \n",
    "        self.a_ = np.random.random()\n",
    "        self.b_ = np.random.random()\n",
    "        self.c_ = np.random.random()\n",
    "        \n",
    "        for _ in range(self.max_iters):\n",
    "            self.gradient_decend(X, y)\n",
    "            \n",
    "    def gradient_decend(self, X, y):\n",
    "        \n",
    "        delta_a, delta_b, delta_c = self.gradient(X, y)\n",
    "#         print(delta_a, delta_b, delta_c)\n",
    "        \n",
    "        self.a_ += delta_a\n",
    "        self.b_ += delta_b\n",
    "        self.c_ += delta_c\n",
    "        \n",
    "    def gradient(self, X, y):\n",
    "        \n",
    "        yp = self.predict(X)\n",
    "        diff = (yp - y)\n",
    "        d_a = np.mean(diff * (X**2))\n",
    "        d_b = np.mean(diff * (X))\n",
    "        d_c = np.mean(diff)\n",
    "        \n",
    "        return -d_a * self.lr, -d_b * self.lr, -d_c * self.lr\n",
    "    \n",
    "    def predict(self, X):\n",
    "        return (X**2) * self.a_ + (X) * self.b_ + self.c_"
   ]
  },
  {
   "cell_type": "code",
   "execution_count": 58,
   "metadata": {},
   "outputs": [],
   "source": [
    "model = CustomLinearReg(lr = .000002, max_iters=1000)"
   ]
  },
  {
   "cell_type": "code",
   "execution_count": 59,
   "metadata": {},
   "outputs": [],
   "source": [
    "model.fit(X, y)"
   ]
  },
  {
   "cell_type": "code",
   "execution_count": null,
   "metadata": {},
   "outputs": [],
   "source": []
  },
  {
   "cell_type": "code",
   "execution_count": 60,
   "metadata": {},
   "outputs": [],
   "source": [
    "yp = model.predict(X)"
   ]
  },
  {
   "cell_type": "code",
   "execution_count": 61,
   "metadata": {},
   "outputs": [
    {
     "data": {
      "text/plain": [
       "<matplotlib.collections.PathCollection at 0x121919860>"
      ]
     },
     "execution_count": 61,
     "metadata": {},
     "output_type": "execute_result"
    },
    {
     "data": {
      "image/png": "[encoded data removed]",
      "text/plain": [
       "<Figure size 432x288 with 1 Axes>"
      ]
     },
     "metadata": {
      "needs_background": "light"
     },
     "output_type": "display_data"
    }
   ],
   "source": [
    "plt.scatter(X, y)\n",
    "plt.scatter(X, yp)"
   ]
  },
  {
   "cell_type": "code",
   "execution_count": null,
   "metadata": {},
   "outputs": [],
   "source": []
  },
  {
   "cell_type": "code",
   "execution_count": null,
   "metadata": {},
   "outputs": [],
   "source": []
  },
  {
   "cell_type": "code",
   "execution_count": null,
   "metadata": {},
   "outputs": [],
   "source": []
  }
 ],
 "metadata": {
  "kernelspec": {
   "display_name": "Python 3",
   "language": "python",
   "name": "python3"
  },
  "language_info": {
   "codemirror_mode": {
    "name": "ipython",
    "version": 3
   },
   "file_extension": ".py",
   "mimetype": "text/x-python",
   "name": "python",
   "nbconvert_exporter": "python",
   "pygments_lexer": "ipython3",
   "version": "3.7.2"
  }
 },
 "nbformat": 4,
 "nbformat_minor": 4
}
