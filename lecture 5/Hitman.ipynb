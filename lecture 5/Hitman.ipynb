{
 "cells": [
  {
   "cell_type": "code",
   "execution_count": 9,
   "metadata": {},
   "outputs": [],
   "source": [
    "class Human:\n",
    "    \n",
    "    population = 0\n",
    "    listing = []\n",
    "    \n",
    "    def __init__(self, name=\"Unnamed\"):\n",
    "        self.name = name\n",
    "        self.alive = True\n",
    "    \n",
    "        Human.population += 1\n",
    "        \n",
    "        Human.listing.append(self)\n",
    "        \n",
    "    @classmethod\n",
    "    def freeKill(cls, people, target):\n",
    "        if sum([item.alive for item in Human.listing]) >= 3:\n",
    "            target.die()\n",
    "        \n",
    "    def die(self):\n",
    "        Human.population -= 1\n",
    "        self.alive = False\n",
    "        \n",
    "    def __repr__(self):\n",
    "        return \"{} is {}\".format(self.name, self.alive)"
   ]
  },
  {
   "cell_type": "code",
   "execution_count": 10,
   "metadata": {},
   "outputs": [],
   "source": [
    "class Hitman(Human):\n",
    "    \n",
    "    def __init__(self, name=\"Hitler\"):\n",
    "        super().__init__(name)\n",
    "        \n",
    "        self.kills = 0\n",
    "    \n",
    "    def shoot(self, person):\n",
    "        if person == self:\n",
    "            print(\"Suicide is never a way\")\n",
    "        elif self.alive and person.alive:\n",
    "            person.die()\n",
    "            self.kills += 1\n",
    "            \n",
    "    def __repr__(self):\n",
    "        return \"{} is {} and killed {}\".format(self.name, self.alive, self.kills)"
   ]
  },
  {
   "cell_type": "code",
   "execution_count": 11,
   "metadata": {},
   "outputs": [],
   "source": [
    "mohit = Human(\"Mohit\")\n",
    "ravi = Human(\"Ravi\")\n",
    "shivam = Human(\"Shivam\")"
   ]
  },
  {
   "cell_type": "code",
   "execution_count": 13,
   "metadata": {},
   "outputs": [
    {
     "data": {
      "text/plain": [
       "3"
      ]
     },
     "execution_count": 13,
     "metadata": {},
     "output_type": "execute_result"
    }
   ],
   "source": [
    "Human.population"
   ]
  },
  {
   "cell_type": "code",
   "execution_count": 14,
   "metadata": {},
   "outputs": [],
   "source": [
    "goga = Hitman(\"Goga\")"
   ]
  },
  {
   "cell_type": "code",
   "execution_count": 15,
   "metadata": {},
   "outputs": [],
   "source": [
    "Human.freeKill([mohit, ravi, shivam], ravi)"
   ]
  },
  {
   "cell_type": "code",
   "execution_count": 17,
   "metadata": {},
   "outputs": [],
   "source": [
    "goga.shoot(mohit)"
   ]
  },
  {
   "cell_type": "code",
   "execution_count": 18,
   "metadata": {},
   "outputs": [
    {
     "name": "stdout",
     "output_type": "stream",
     "text": [
      "Suicide is never a way\n"
     ]
    }
   ],
   "source": [
    "goga.shoot(goga)"
   ]
  },
  {
   "cell_type": "code",
   "execution_count": 19,
   "metadata": {},
   "outputs": [
    {
     "data": {
      "text/plain": [
       "1"
      ]
     },
     "execution_count": 19,
     "metadata": {},
     "output_type": "execute_result"
    }
   ],
   "source": [
    "goga.kills"
   ]
  },
  {
   "cell_type": "code",
   "execution_count": 20,
   "metadata": {},
   "outputs": [
    {
     "data": {
      "text/plain": [
       "[Mohit is False, Ravi is False, Shivam is True, Goga is True and killed 1]"
      ]
     },
     "execution_count": 20,
     "metadata": {},
     "output_type": "execute_result"
    }
   ],
   "source": [
    "Human.listing"
   ]
  },
  {
   "cell_type": "code",
   "execution_count": null,
   "metadata": {},
   "outputs": [],
   "source": []
  }
 ],
 "metadata": {
  "kernelspec": {
   "display_name": "Python 3",
   "language": "python",
   "name": "python3"
  },
  "language_info": {
   "codemirror_mode": {
    "name": "ipython",
    "version": 3
   },
   "file_extension": ".py",
   "mimetype": "text/x-python",
   "name": "python",
   "nbconvert_exporter": "python",
   "pygments_lexer": "ipython3",
   "version": "3.6.5"
  }
 },
 "nbformat": 4,
 "nbformat_minor": 2
}
