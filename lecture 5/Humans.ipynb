{
 "cells": [
  {
   "cell_type": "code",
   "execution_count": 14,
   "metadata": {},
   "outputs": [],
   "source": [
    "class Human:\n",
    "    \n",
    "    population = 0\n",
    "    uid = 0\n",
    "    record = {}\n",
    "    \n",
    "    def __init__(self, name = \"Unnamed\"):\n",
    "        \n",
    "        self.name = name\n",
    "        self.balance = 1000\n",
    "        \n",
    "        Human.population+= 1\n",
    "        Human.record[Human.uid] = self\n",
    "        Human.uid+=1\n",
    "        \n",
    "    def __repr__(self):\n",
    "        return \"{} - {}\".format(self.name, self.balance)\n",
    "    \n",
    "    def debit(self, amount):\n",
    "        \n",
    "        if self.balance >=amount:\n",
    "            self.balance-= amount\n",
    "            print(\"Now I have: {}\".format(self.balance))\n",
    "            \n",
    "        else:\n",
    "            print(\"Not enough balance\")\n",
    "            \n",
    "    def udhaar(self, human, amount=500):\n",
    "        \n",
    "        if human.balance > amount:\n",
    "            \n",
    "            human.balance-= amount\n",
    "            self.balance+= amount\n",
    "        else:\n",
    "            print(\"{} doesn't have the required amount\".format(human.name))\n",
    "            "
   ]
  },
  {
   "cell_type": "code",
   "execution_count": 15,
   "metadata": {},
   "outputs": [],
   "source": [
    "a = Human(\"A\")\n",
    "b = Human(\"B\")"
   ]
  },
  {
   "cell_type": "code",
   "execution_count": 16,
   "metadata": {},
   "outputs": [
    {
     "name": "stdout",
     "output_type": "stream",
     "text": [
      "Now I have: 900\n"
     ]
    }
   ],
   "source": [
    "a.debit(100)"
   ]
  },
  {
   "cell_type": "code",
   "execution_count": 17,
   "metadata": {},
   "outputs": [],
   "source": [
    "a.udhaar(b, 500)"
   ]
  },
  {
   "cell_type": "code",
   "execution_count": 18,
   "metadata": {},
   "outputs": [
    {
     "data": {
      "text/plain": [
       "1400"
      ]
     },
     "execution_count": 18,
     "metadata": {},
     "output_type": "execute_result"
    }
   ],
   "source": [
    "a.balance"
   ]
  },
  {
   "cell_type": "code",
   "execution_count": 19,
   "metadata": {},
   "outputs": [
    {
     "data": {
      "text/plain": [
       "2"
      ]
     },
     "execution_count": 19,
     "metadata": {},
     "output_type": "execute_result"
    }
   ],
   "source": [
    "Human.population"
   ]
  },
  {
   "cell_type": "code",
   "execution_count": 21,
   "metadata": {},
   "outputs": [
    {
     "data": {
      "text/plain": [
       "B - 500"
      ]
     },
     "execution_count": 21,
     "metadata": {},
     "output_type": "execute_result"
    }
   ],
   "source": [
    "Human.record[1]"
   ]
  },
  {
   "cell_type": "code",
   "execution_count": null,
   "metadata": {},
   "outputs": [],
   "source": []
  }
 ],
 "metadata": {
  "kernelspec": {
   "display_name": "Python 3",
   "language": "python",
   "name": "python3"
  },
  "language_info": {
   "codemirror_mode": {
    "name": "ipython",
    "version": 3
   },
   "file_extension": ".py",
   "mimetype": "text/x-python",
   "name": "python",
   "nbconvert_exporter": "python",
   "pygments_lexer": "ipython3",
   "version": "3.6.5"
  }
 },
 "nbformat": 4,
 "nbformat_minor": 2
}
