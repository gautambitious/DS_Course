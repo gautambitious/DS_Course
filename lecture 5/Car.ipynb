{
 "cells": [
  {
   "cell_type": "code",
   "execution_count": 1,
   "metadata": {},
   "outputs": [],
   "source": [
    "class MediaPlayer:\n",
    "    \n",
    "    def start(self):\n",
    "        print(\"Start like generic Mediaplayer\")\n",
    "        \n",
    "    def stop(self):\n",
    "        print(\"Stop like a generic MediaPlayer\")\n",
    "        \n",
    "class Engine:\n",
    "    \n",
    "    def start(self):\n",
    "        print(\"Start like generic Engine\")\n",
    "        \n",
    "    def stop(self):\n",
    "        print(\"Stop like a generic Engine\")"
   ]
  },
  {
   "cell_type": "code",
   "execution_count": 2,
   "metadata": {},
   "outputs": [],
   "source": [
    "class Car:\n",
    "    \n",
    "    def __init__(self):\n",
    "        self.__engine = Engine()\n",
    "        self.__mp3 = MediaPlayer()\n",
    "        \n",
    "    def start(self):\n",
    "        self._engine.start()\n",
    "        self.__mp3.start()\n",
    "        \n",
    "    def stop(self):\n",
    "        self.__mp3.stop()\n",
    "        slef._engine.stop()\n",
    "        \n",
    "        "
   ]
  },
  {
   "cell_type": "code",
   "execution_count": null,
   "metadata": {},
   "outputs": [],
   "source": []
  }
 ],
 "metadata": {
  "kernelspec": {
   "display_name": "Python 3",
   "language": "python",
   "name": "python3"
  },
  "language_info": {
   "codemirror_mode": {
    "name": "ipython",
    "version": 3
   },
   "file_extension": ".py",
   "mimetype": "text/x-python",
   "name": "python",
   "nbconvert_exporter": "python",
   "pygments_lexer": "ipython3",
   "version": "3.6.5"
  }
 },
 "nbformat": 4,
 "nbformat_minor": 2
}
