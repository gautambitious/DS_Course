{
 "cells": [
  {
   "cell_type": "code",
   "execution_count": 1,
   "metadata": {},
   "outputs": [],
   "source": [
    "import numpy as np\n",
    "import matplotlib.pyplot as plt\n",
    "\n",
    "m = 5\n",
    "c = 10\n",
    "\n",
    "X = np.linspace(0, 100, 100)\n",
    "\n",
    "y = (m + X + c) + np.random.randint(-25, 25, 100)\n",
    "\n",
    "plt.scatter(X, y)"
   ]
  },
  {
   "cell_type": "code",
   "execution_count": 50,
   "metadata": {},
   "outputs": [],
   "source": [
    "class CustomLinearReg:\n",
    "    \n",
    "    def __init__(self, lr=0.1, max_iters=10):\n",
    "        self.lr = lr\n",
    "        self.max_iters = max_iters\n",
    "        \n",
    "    def fit(self, X, y):\n",
    "        \n",
    "        self.__X = X\n",
    "        self.__y = y\n",
    "        \n",
    "        self.coef_ = np.random.random()\n",
    "        self.intercept_ = np.random.random()\n",
    "        \n",
    "        for _ in range(self.max_iters):\n",
    "            self.gradient_decend()\n",
    "            \n",
    "    def gradient_decend(self):\n",
    "        \n",
    "        delta_coef, delta_inter = self.gradient()\n",
    "        \n",
    "        self.coef_ += delta_coef\n",
    "        self.intercept_ += delta_inter\n",
    "        \n",
    "    def gradient(self):\n",
    "        X, y = self.__X, self.__y\n",
    "        y_predict = self.coef_*X + self.intercept_\n",
    "        z = (y_predict - y)\n",
    "        return -2*self.lr*np.mean(z*X), -2*np.mean(z)*self.lr"
   ]
  },
  {
   "cell_type": "code",
   "execution_count": 54,
   "metadata": {},
   "outputs": [],
   "source": [
    "model = CustomLinearReg(lr=0.0001)\n",
    "\n",
    "model.fit(X, y)\n",
    "\n",
    "model.coef_\n",
    "\n",
    "yp = model.coef_*X + model.intercept_"
   ]
  },
  {
   "cell_type": "code",
   "execution_count": 58,
   "metadata": {},
   "outputs": [
    {
     "data": {
      "text/plain": [
       "<matplotlib.collections.PathCollection at 0x1896e5ea4a8>"
      ]
     },
     "execution_count": 58,
     "metadata": {},
     "output_type": "execute_result"
    },
    {
     "data": {
      "image/png": "[encoded data removed]",
      "text/plain": [
       "<Figure size 432x288 with 1 Axes>"
      ]
     },
     "metadata": {},
     "output_type": "display_data"
    }
   ],
   "source": [
    "plt.figure()\n",
    "plt.scatter(X, y)\n",
    "plt.scatter(X, yp)"
   ]
  },
  {
   "cell_type": "code",
   "execution_count": 33,
   "metadata": {},
   "outputs": [
    {
     "data": {
      "text/plain": [
       "0.7128234169107953"
      ]
     },
     "execution_count": 33,
     "metadata": {},
     "output_type": "execute_result"
    }
   ],
   "source": [
    "np.random.random()"
   ]
  },
  {
   "cell_type": "code",
   "execution_count": null,
   "metadata": {},
   "outputs": [],
   "source": []
  }
 ],
 "metadata": {
  "kernelspec": {
   "display_name": "Python 3",
   "language": "python",
   "name": "python3"
  },
  "language_info": {
   "codemirror_mode": {
    "name": "ipython",
    "version": 3
   },
   "file_extension": ".py",
   "mimetype": "text/x-python",
   "name": "python",
   "nbconvert_exporter": "python",
   "pygments_lexer": "ipython3",
   "version": "3.6.5"
  }
 },
 "nbformat": 4,
 "nbformat_minor": 2
}
