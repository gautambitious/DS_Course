{
 "cells": [
  {
   "cell_type": "code",
   "execution_count": 4,
   "metadata": {},
   "outputs": [],
   "source": [
    "import requests\n",
    "from bs4 import BeautifulSoup\n",
    "url = \"https://www.goodreads.com/quotes/tag/{}?page={}\""
   ]
  },
  {
   "cell_type": "code",
   "execution_count": 27,
   "metadata": {},
   "outputs": [],
   "source": [
    "def scrap(url):\n",
    "    data = requests.get(url)\n",
    "\n",
    "    soup = BeautifulSoup(data.text)\n",
    "    tags_divs = soup.find_all(\"ul\", attrs={\"class\":\"listTagsTwoColumn\"})\n",
    "    for tag in tags_divs:\n",
    "        text = tag.find_all(\"a\", attrs={\"class\":\"gr-hyperlink\"})\n",
    "        tags = [a.text.strip() for a in text]\n",
    "    quote_divs = soup.find_all(\"div\", attrs={\"class\":\"quote\"})\n",
    "    content = []\n",
    "    for quote_div in quote_divs:\n",
    "\n",
    "        quoteText_div = quote_div.find(\"div\", attrs={\"class\":\"quoteText\"})\n",
    "        quoteText = quoteText_div.text\n",
    "        author = quoteText_div.find(\"span\").text.strip()\n",
    "        quote = quoteText.strip().split(\"\\n\")[0][1:-1]\n",
    "        content.append([author, quote])\n",
    "    \n",
    "    return content, tags"
   ]
  },
  {
   "cell_type": "code",
   "execution_count": 6,
   "metadata": {},
   "outputs": [
    {
     "name": "stdin",
     "output_type": "stream",
     "text": [
      "Enter the emotion :  life\n",
      "Enter number of pages :  5\n"
     ]
    }
   ],
   "source": [
    "emotion = input(\"Enter the emotion : \")\n",
    "pages = int(input(\"Enter number of pages : \"))"
   ]
  },
  {
   "cell_type": "code",
   "execution_count": 31,
   "metadata": {},
   "outputs": [
    {
     "name": "stdout",
     "output_type": "stream",
     "text": [
      "processes 1\n",
      "processes 2\n",
      "processes 3\n",
      "processes 4\n",
      "processes 5\n"
     ]
    }
   ],
   "source": [
    "collected = []\n",
    "tags = []\n",
    "for num in range(1, pages + 1):\n",
    "    quotes, tag = scrap(url.format(emotion, num))\n",
    "    collected.extend(quotes)\n",
    "    tags.extend(tag)\n",
    "    print(\"processes\", num)"
   ]
  },
  {
   "cell_type": "code",
   "execution_count": 33,
   "metadata": {},
   "outputs": [
    {
     "name": "stdout",
     "output_type": "stream",
     "text": [
      "75\n"
     ]
    }
   ],
   "source": [
    "print(len(tags))"
   ]
  },
  {
   "cell_type": "code",
   "execution_count": 8,
   "metadata": {},
   "outputs": [],
   "source": [
    "import pandas as pd"
   ]
  },
  {
   "cell_type": "code",
   "execution_count": 9,
   "metadata": {},
   "outputs": [
    {
     "data": {
      "text/html": [
       "<div>\n",
       "<style scoped>\n",
       "    .dataframe tbody tr th:only-of-type {\n",
       "        vertical-align: middle;\n",
       "    }\n",
       "\n",
       "    .dataframe tbody tr th {\n",
       "        vertical-align: top;\n",
       "    }\n",
       "\n",
       "    .dataframe thead th {\n",
       "        text-align: right;\n",
       "    }\n",
       "</style>\n",
       "<table border=\"1\" class=\"dataframe\">\n",
       "  <thead>\n",
       "    <tr style=\"text-align: right;\">\n",
       "      <th></th>\n",
       "      <th>author</th>\n",
       "      <th>quote</th>\n",
       "    </tr>\n",
       "  </thead>\n",
       "  <tbody>\n",
       "    <tr>\n",
       "      <th>0</th>\n",
       "      <td>Marilyn Monroe</td>\n",
       "      <td>I'm selfish, impatient and a little insecure. ...</td>\n",
       "    </tr>\n",
       "    <tr>\n",
       "      <th>1</th>\n",
       "      <td>William W. Purkey</td>\n",
       "      <td>You've gotta dance like there's nobody watchin...</td>\n",
       "    </tr>\n",
       "    <tr>\n",
       "      <th>2</th>\n",
       "      <td>Mae West</td>\n",
       "      <td>You only live once, but if you do it right, on...</td>\n",
       "    </tr>\n",
       "    <tr>\n",
       "      <th>3</th>\n",
       "      <td>Robert Frost</td>\n",
       "      <td>In three words I can sum up everything I've le...</td>\n",
       "    </tr>\n",
       "    <tr>\n",
       "      <th>4</th>\n",
       "      <td>Oscar Wilde</td>\n",
       "      <td>To live is the rarest thing in the world. Most...</td>\n",
       "    </tr>\n",
       "    <tr>\n",
       "      <th>...</th>\n",
       "      <td>...</td>\n",
       "      <td>...</td>\n",
       "    </tr>\n",
       "    <tr>\n",
       "      <th>145</th>\n",
       "      <td>Natalie Babbitt,</td>\n",
       "      <td>Don't be afraid of death; be afraid of an unli...</td>\n",
       "    </tr>\n",
       "    <tr>\n",
       "      <th>146</th>\n",
       "      <td>Mark Twain</td>\n",
       "      <td>Don't part with your illusions. When they are ...</td>\n",
       "    </tr>\n",
       "    <tr>\n",
       "      <th>147</th>\n",
       "      <td>Raymond Chandler,</td>\n",
       "      <td>To say goodbye is to die a little.</td>\n",
       "    </tr>\n",
       "    <tr>\n",
       "      <th>148</th>\n",
       "      <td>Roy T. Bennett,</td>\n",
       "      <td>Believe in Your HeartBelieve in your heart tha...</td>\n",
       "    </tr>\n",
       "    <tr>\n",
       "      <th>149</th>\n",
       "      <td>Stewart O'Nan,</td>\n",
       "      <td>You couldn't relive your life, skipping the aw...</td>\n",
       "    </tr>\n",
       "  </tbody>\n",
       "</table>\n",
       "<p>150 rows × 2 columns</p>\n",
       "</div>"
      ],
      "text/plain": [
       "                author                                              quote\n",
       "0       Marilyn Monroe  I'm selfish, impatient and a little insecure. ...\n",
       "1    William W. Purkey  You've gotta dance like there's nobody watchin...\n",
       "2             Mae West  You only live once, but if you do it right, on...\n",
       "3         Robert Frost  In three words I can sum up everything I've le...\n",
       "4          Oscar Wilde  To live is the rarest thing in the world. Most...\n",
       "..                 ...                                                ...\n",
       "145   Natalie Babbitt,  Don't be afraid of death; be afraid of an unli...\n",
       "146         Mark Twain  Don't part with your illusions. When they are ...\n",
       "147  Raymond Chandler,                 To say goodbye is to die a little.\n",
       "148    Roy T. Bennett,  Believe in Your HeartBelieve in your heart tha...\n",
       "149     Stewart O'Nan,  You couldn't relive your life, skipping the aw...\n",
       "\n",
       "[150 rows x 2 columns]"
      ]
     },
     "execution_count": 9,
     "metadata": {},
     "output_type": "execute_result"
    }
   ],
   "source": [
    "pd.DataFrame(collected, columns=[\"author\", \"quote\"])"
   ]
  },
  {
   "cell_type": "code",
   "execution_count": null,
   "metadata": {},
   "outputs": [],
   "source": []
  }
 ],
 "metadata": {
  "kernelspec": {
   "display_name": "Python 3",
   "language": "python",
   "name": "python3"
  },
  "language_info": {
   "codemirror_mode": {
    "name": "ipython",
    "version": 3
   },
   "file_extension": ".py",
   "mimetype": "text/x-python",
   "name": "python",
   "nbconvert_exporter": "python",
   "pygments_lexer": "ipython3",
   "version": "3.7.6"
  }
 },
 "nbformat": 4,
 "nbformat_minor": 4
}
