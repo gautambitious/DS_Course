{
 "cells": [
  {
   "cell_type": "code",
   "execution_count": 10,
   "metadata": {},
   "outputs": [
    {
     "name": "stdout",
     "output_type": "stream",
     "text": [
      "50\n"
     ]
    }
   ],
   "source": [
    "try:\n",
    "    for _ in range(int(input())):\n",
    "        a, b = input().split()\n",
    "        if len(a)==1 or len(b)==1:\n",
    "            if len(a)==1:\n",
    "                m,n,o = int(a[0]), int(b[0]), int(b[1])\n",
    "                if n<m:\n",
    "                    m,n=n,m\n",
    "                print(m+n*10+o)\n",
    "            else:\n",
    "                m, n, o= int(a[0]), int(a[1]), int(b[0])\n",
    "                if m<o:\n",
    "                    m,o=o,m\n",
    "                print(m*10+n+o)\n",
    "        else:\n",
    "            m,n,o,p = int(a[0]), int(a[1]), int(b[0]), int(b[1])\n",
    "            if m<o:\n",
    "                if p>m:\n",
    "                    m, p = p,m\n",
    "            else:\n",
    "                if n>o:\n",
    "                    n, o = o,n\n",
    "            print(m*10+o*10+n+p)\n",
    "except:\n",
    "    pass"
   ]
  },
  {
   "cell_type": "code",
   "execution_count": null,
   "metadata": {},
   "outputs": [],
   "source": []
  }
 ],
 "metadata": {
  "kernelspec": {
   "display_name": "Python 3",
   "language": "python",
   "name": "python3"
  },
  "language_info": {
   "codemirror_mode": {
    "name": "ipython",
    "version": 3
   },
   "file_extension": ".py",
   "mimetype": "text/x-python",
   "name": "python",
   "nbconvert_exporter": "python",
   "pygments_lexer": "ipython3",
   "version": "3.6.5"
  }
 },
 "nbformat": 4,
 "nbformat_minor": 2
}
