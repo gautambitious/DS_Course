{
 "cells": [
  {
   "cell_type": "code",
   "execution_count": 1,
   "metadata": {},
   "outputs": [],
   "source": [
    "import matplotlib.pyplot as plt\n",
    "import numpy as np\n",
    "import pandas as pd"
   ]
  },
  {
   "cell_type": "code",
   "execution_count": 11,
   "metadata": {},
   "outputs": [],
   "source": [
    "data = pd.read_csv('../datasets/word2vec/embedding/wikipedia_color_names.csv')"
   ]
  },
  {
   "cell_type": "code",
   "execution_count": 12,
   "metadata": {},
   "outputs": [
    {
     "data": {
      "text/html": [
       "<div>\n",
       "<style scoped>\n",
       "    .dataframe tbody tr th:only-of-type {\n",
       "        vertical-align: middle;\n",
       "    }\n",
       "\n",
       "    .dataframe tbody tr th {\n",
       "        vertical-align: top;\n",
       "    }\n",
       "\n",
       "    .dataframe thead th {\n",
       "        text-align: right;\n",
       "    }\n",
       "</style>\n",
       "<table border=\"1\" class=\"dataframe\">\n",
       "  <thead>\n",
       "    <tr style=\"text-align: right;\">\n",
       "      <th></th>\n",
       "      <th>Name</th>\n",
       "      <th>Hex (24 bit)</th>\n",
       "      <th>Red (8 bit)</th>\n",
       "      <th>Green (8 bit)</th>\n",
       "      <th>Blue (8 bit)</th>\n",
       "      <th>Hue (degrees)</th>\n",
       "      <th>HSL.S (%)</th>\n",
       "      <th>HSL.L (%), HSV.S (%), HSV.V (%)</th>\n",
       "    </tr>\n",
       "  </thead>\n",
       "  <tbody>\n",
       "    <tr>\n",
       "      <th>0</th>\n",
       "      <td>Absolute zero</td>\n",
       "      <td>#0048BA</td>\n",
       "      <td>0</td>\n",
       "      <td>72</td>\n",
       "      <td>186</td>\n",
       "      <td>217.0</td>\n",
       "      <td>100.0</td>\n",
       "      <td>37.0</td>\n",
       "    </tr>\n",
       "    <tr>\n",
       "      <th>1</th>\n",
       "      <td>Acid green</td>\n",
       "      <td>#B0BF1A</td>\n",
       "      <td>176</td>\n",
       "      <td>191</td>\n",
       "      <td>26</td>\n",
       "      <td>65.0</td>\n",
       "      <td>76.0</td>\n",
       "      <td>43.0</td>\n",
       "    </tr>\n",
       "    <tr>\n",
       "      <th>2</th>\n",
       "      <td>Aero</td>\n",
       "      <td>#7CB9E8</td>\n",
       "      <td>124</td>\n",
       "      <td>185</td>\n",
       "      <td>232</td>\n",
       "      <td>206.0</td>\n",
       "      <td>70.0</td>\n",
       "      <td>70.0</td>\n",
       "    </tr>\n",
       "    <tr>\n",
       "      <th>3</th>\n",
       "      <td>Aero blue</td>\n",
       "      <td>#C9FFE5</td>\n",
       "      <td>201</td>\n",
       "      <td>255</td>\n",
       "      <td>229</td>\n",
       "      <td>151.0</td>\n",
       "      <td>100.0</td>\n",
       "      <td>89.0</td>\n",
       "    </tr>\n",
       "    <tr>\n",
       "      <th>4</th>\n",
       "      <td>African violet</td>\n",
       "      <td>#B284BE</td>\n",
       "      <td>178</td>\n",
       "      <td>132</td>\n",
       "      <td>190</td>\n",
       "      <td>288.0</td>\n",
       "      <td>31.0</td>\n",
       "      <td>63.0</td>\n",
       "    </tr>\n",
       "  </tbody>\n",
       "</table>\n",
       "</div>"
      ],
      "text/plain": [
       "             Name Hex (24 bit)  Red (8 bit)  Green (8 bit)  Blue (8 bit)  \\\n",
       "0   Absolute zero      #0048BA            0             72           186   \n",
       "1      Acid green      #B0BF1A          176            191            26   \n",
       "2            Aero      #7CB9E8          124            185           232   \n",
       "3       Aero blue      #C9FFE5          201            255           229   \n",
       "4  African violet      #B284BE          178            132           190   \n",
       "\n",
       "   Hue (degrees)  HSL.S (%)  HSL.L (%), HSV.S (%), HSV.V (%)  \n",
       "0          217.0      100.0                             37.0  \n",
       "1           65.0       76.0                             43.0  \n",
       "2          206.0       70.0                             70.0  \n",
       "3          151.0      100.0                             89.0  \n",
       "4          288.0       31.0                             63.0  "
      ]
     },
     "execution_count": 12,
     "metadata": {},
     "output_type": "execute_result"
    }
   ],
   "source": [
    "data.head()"
   ]
  },
  {
   "cell_type": "code",
   "execution_count": 16,
   "metadata": {},
   "outputs": [],
   "source": [
    "X, y = data.iloc[:, 2:5].values, data.iloc[:,0].values"
   ]
  },
  {
   "cell_type": "code",
   "execution_count": null,
   "metadata": {},
   "outputs": [],
   "source": []
  }
 ],
 "metadata": {
  "kernelspec": {
   "display_name": "Python 3",
   "language": "python",
   "name": "python3"
  },
  "language_info": {
   "codemirror_mode": {
    "name": "ipython",
    "version": 3
   },
   "file_extension": ".py",
   "mimetype": "text/x-python",
   "name": "python",
   "nbconvert_exporter": "python",
   "pygments_lexer": "ipython3",
   "version": "3.7.6"
  }
 },
 "nbformat": 4,
 "nbformat_minor": 4
}
