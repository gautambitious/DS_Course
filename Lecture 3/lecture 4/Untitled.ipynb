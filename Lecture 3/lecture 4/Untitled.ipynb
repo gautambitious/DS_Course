{
 "cells": [
  {
   "cell_type": "code",
   "execution_count": 2,
   "metadata": {},
   "outputs": [],
   "source": [
    "import random\n",
    "import requests\n",
    "result = requests.get(r\"https://cb.lk/speech\")\n",
    "text = result.text"
   ]
  },
  {
   "cell_type": "code",
   "execution_count": 3,
   "metadata": {},
   "outputs": [],
   "source": [
    "words = text.lower().split()"
   ]
  },
  {
   "cell_type": "code",
   "execution_count": 4,
   "metadata": {},
   "outputs": [],
   "source": [
    "k = 5\n",
    "speech = {}\n",
    "for i in range(k,len(words)):\n",
    "    word = tuple(words[i-k:i])\n",
    "    key = words[i]\n",
    "    if word not in speech:\n",
    "        speech[word] = {}\n",
    "    \n",
    "    if key not in speech[word]:\n",
    "        speech[word][key] = 0\n",
    "        \n",
    "    speech[word][key]+= 1"
   ]
  },
  {
   "cell_type": "code",
   "execution_count": 23,
   "metadata": {},
   "outputs": [],
   "source": [
    "seed = words[100:150]"
   ]
  },
  {
   "cell_type": "code",
   "execution_count": 24,
   "metadata": {},
   "outputs": [],
   "source": [
    "for i in range(1):\n",
    "    res = seed[-1:]\n",
    "    cut = speech[tuple(seed[len(seed)-k-1:-1])]\n",
    "    chosen = random.choice(sorted(cut.items(), key = lambda x: -x[1])[:3])[0]\n",
    "    seed.append(chosen)"
   ]
  },
  {
   "cell_type": "code",
   "execution_count": 25,
   "metadata": {},
   "outputs": [
    {
     "name": "stdout",
     "output_type": "stream",
     "text": [
      "and practitioners; - to be the instrument through which ideas from outside are incorporated into policy-making. the government of india and the state governments have a long administrative tradition. this tradition combines indigenous and external ideas from india’s past. this administrative tradition has served india well in many ways. above above\n"
     ]
    }
   ],
   "source": [
    "print(\" \".join(seed))"
   ]
  },
  {
   "cell_type": "code",
   "execution_count": null,
   "metadata": {},
   "outputs": [],
   "source": []
  }
 ],
 "metadata": {
  "kernelspec": {
   "display_name": "Python 3",
   "language": "python",
   "name": "python3"
  },
  "language_info": {
   "codemirror_mode": {
    "name": "ipython",
    "version": 3
   },
   "file_extension": ".py",
   "mimetype": "text/x-python",
   "name": "python",
   "nbconvert_exporter": "python",
   "pygments_lexer": "ipython3",
   "version": "3.6.5"
  }
 },
 "nbformat": 4,
 "nbformat_minor": 2
}
