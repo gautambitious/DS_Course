{
 "cells": [
  {
   "cell_type": "code",
   "execution_count": 1,
   "metadata": {},
   "outputs": [],
   "source": [
    "import random"
   ]
  },
  {
   "cell_type": "code",
   "execution_count": 2,
   "metadata": {},
   "outputs": [],
   "source": [
    "import requests\n",
    "result = requests.get(r\"https://cb.lk/speech\")\n",
    "text = result.text"
   ]
  },
  {
   "cell_type": "code",
   "execution_count": 48,
   "metadata": {},
   "outputs": [],
   "source": [
    "text = \"\"\"\n",
    "Kaun bola mujhe na ho payega?\n",
    "Kaun bola, Kaun bola?\n",
    "\n",
    "Apna Time Aayega!\n",
    "\n",
    "Uth ja apni raakh se\n",
    "Tu uth ja ab talaash mein\n",
    "Parwaaz dekh parwaane ki\n",
    "Aasmaan bhi sar uthayega\n",
    "Aayega, apna time aayega\n",
    "\n",
    "Mere jaisa shaana lala\n",
    "Tujhe na mil paayega\n",
    "Ye shabdo ka jwaala\n",
    "Meri bediyan pighlaayega\n",
    "Jitna tune boya hai\n",
    "Tu utna hi toh khaayega\n",
    "Aisa mera khwaab hai\n",
    "Jo dar ko bhi sataayega\n",
    "Zinda mera khwab\n",
    "Ab kaise tu dafnayega\n",
    "\n",
    "Ab hausle se jeene de\n",
    "Ab khauf nahi hai seene mein\n",
    "Har raaste ko cheerenge\n",
    "Hum kaamyabi cheenenge\n",
    "Sab kuch mila paseene se\n",
    "Matlab bana ab jeene mein\n",
    "Kyun?\n",
    "\n",
    "Kyunki apna time aayega\n",
    "Tu nanga hi toh aaya hai\n",
    "Kya ghanta lekar jaayega\n",
    "\n",
    "Apna time aayega\n",
    "Apna time aayega\n",
    "Apna time aayega\n",
    "Tu nanga hi toh aaya hai\n",
    "Kya ghanta lekar jaayega\n",
    "Apna time aayega\n",
    "Apna time aayega\n",
    "Apna time aayega\n",
    "Tu nanga hi toh aaya hai\n",
    "Kya ghanta lekar…\n",
    "\n",
    "Kisi ka haath nahi tha sar par\n",
    "Yahan par aaya khudki mehnat se main\n",
    "Jitni taakat kismat mein nahi\n",
    "Utni rehmat mein hai\n",
    "Phir bhi ladka sehmat nahi hai\n",
    "Kyunki hairat nahi hai\n",
    "Zaroorat yahan marzi ki aur jurrat ki hai\n",
    "Taakat ki hai, aafat ki, himaakat ki, Ibadat ki\n",
    "Adaalat yeh hai chaahat ki\n",
    "Mohabbat ki, amaanat ki\n",
    "Jeetne ki ab aadat ki\n",
    "Yeh shohrat ki, ab laalach nahi hai\n",
    "Tere bhai jaisa koi hard’ich nahi hai\n",
    "Hard, hard, hard, hard…\n",
    "\n",
    "Iss harkat ne hi barkat di hai\n",
    "Kyun?\n",
    "\n",
    "Kyunki apna time aayega\n",
    "Tu nanga hi toh aaya hai\n",
    "Kya ghanta lekar jaayega\n",
    "Apna time aayega\n",
    "Apna time aayega\n",
    "Apna time aayega\n",
    "Tu nanga hi toh aaya hai\n",
    "Kya ghanta lekar jaayega\n",
    "Apna time aayega!\n",
    "Apna time aayega!\n",
    "Apna time aayega!\n",
    "Tu nanga hi toh aaya hai\n",
    "Kya ghanta lekar jaayega\n",
    "\n",
    "Kal nanga hi toh aaya tha\n",
    "Kya tu ghanta lekar jaayega\n",
    "Apna time aayega!\n",
    "Apna time aayega!\n",
    "\n",
    "Apna time aayega na\n",
    "Tu nanga hi toh jayega na…\n",
    "\"\"\""
   ]
  },
  {
   "cell_type": "code",
   "execution_count": 3,
   "metadata": {},
   "outputs": [],
   "source": [
    "k = 8\n",
    "speech = {}\n",
    "for i in range(k,len(text)):\n",
    "    \n",
    "    cut = text[i-k:i]\n",
    "    next_char = text[i]\n",
    "    \n",
    "    if cut not in speech:\n",
    "        speech[cut] = {}\n",
    "        \n",
    "    if next_char not in [cut]:\n",
    "        speech[cut][next_char] = 0\n",
    "        \n",
    "    speech[cut][next_char]+=1\n",
    "    "
   ]
  },
  {
   "cell_type": "code",
   "execution_count": 4,
   "metadata": {},
   "outputs": [],
   "source": [
    "seed = text[100:150]"
   ]
  },
  {
   "cell_type": "code",
   "execution_count": 5,
   "metadata": {},
   "outputs": [],
   "source": [
    "for j in range(100):\n",
    "    cut = seed[-k:]\n",
    "    random_char = random.choice(sorted(speech[cut].items(), key = lambda x: -x[1])[:3])[0]\n",
    "    seed+=random_char"
   ]
  },
  {
   "cell_type": "code",
   "execution_count": 6,
   "metadata": {},
   "outputs": [
    {
     "name": "stdout",
     "output_type": "stream",
     "text": [
      " of capital and labour. Today we know that it depends as much longer a need this time this operated he goes, events, analysis of these eight states. \n",
      "\n"
     ]
    }
   ],
   "source": [
    "print(seed)"
   ]
  },
  {
   "cell_type": "code",
   "execution_count": null,
   "metadata": {},
   "outputs": [],
   "source": []
  }
 ],
 "metadata": {
  "kernelspec": {
   "display_name": "Python 3",
   "language": "python",
   "name": "python3"
  },
  "language_info": {
   "codemirror_mode": {
    "name": "ipython",
    "version": 3
   },
   "file_extension": ".py",
   "mimetype": "text/x-python",
   "name": "python",
   "nbconvert_exporter": "python",
   "pygments_lexer": "ipython3",
   "version": "3.6.5"
  }
 },
 "nbformat": 4,
 "nbformat_minor": 2
}
