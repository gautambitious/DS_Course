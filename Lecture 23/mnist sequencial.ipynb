{
 "cells": [
  {
   "cell_type": "code",
   "execution_count": 1,
   "metadata": {},
   "outputs": [],
   "source": [
    "from tensorflow.keras.models import Sequential\n",
    "from tensorflow.keras.layers import Dense\n",
    "\n",
    "from sklearn.datasets import make_blobs\n",
    "\n",
    "import numpy as np\n",
    "\n",
    "import matplotlib.pyplot as plt\n",
    "from sklearn.preprocessing import OneHotEncoder\n",
    "from sklearn.model_selection import train_test_split"
   ]
  },
  {
   "cell_type": "code",
   "execution_count": 26,
   "metadata": {},
   "outputs": [],
   "source": [
    "from tensorflow.keras.datasets import mnist"
   ]
  },
  {
   "cell_type": "code",
   "execution_count": 43,
   "metadata": {},
   "outputs": [],
   "source": [
    "(x_train, y_train), (x_test, y_test) = mnist.load_data()"
   ]
  },
  {
   "cell_type": "code",
   "execution_count": 2,
   "metadata": {},
   "outputs": [],
   "source": [
    "from PIL import Image"
   ]
  },
  {
   "cell_type": "code",
   "execution_count": 5,
   "metadata": {},
   "outputs": [],
   "source": [
    "y_hot = OneHotEncoder().fit_transform(y.reshape(-1,1)).todense()"
   ]
  },
  {
   "cell_type": "code",
   "execution_count": 6,
   "metadata": {},
   "outputs": [],
   "source": [
    "X_train, X_test, y_train, y_test = train_test_split(\n",
    "...     X, y_hot, test_size=0.33, random_state=42)"
   ]
  },
  {
   "cell_type": "code",
   "execution_count": 7,
   "metadata": {},
   "outputs": [],
   "source": [
    "model = Sequential()"
   ]
  },
  {
   "cell_type": "code",
   "execution_count": 8,
   "metadata": {},
   "outputs": [],
   "source": [
    "model.add(Dense(400,activation=\"relu\", input_shape=(784,), name='l1'))\n",
    "model.add(Dense(200,activation=\"relu\", name='l2'))\n",
    "model.add(Dense(100,activation=\"relu\", name='l3'))\n",
    "model.add(Dense(50,activation=\"relu\", name='l4'))\n",
    "model.add(Dense(10,activation=\"softmax\", name='l5'))"
   ]
  },
  {
   "cell_type": "code",
   "execution_count": 9,
   "metadata": {},
   "outputs": [
    {
     "name": "stdout",
     "output_type": "stream",
     "text": [
      "Model: \"sequential\"\n",
      "_________________________________________________________________\n",
      "Layer (type)                 Output Shape              Param #   \n",
      "=================================================================\n",
      "l1 (Dense)                   (None, 400)               314000    \n",
      "_________________________________________________________________\n",
      "l2 (Dense)                   (None, 200)               80200     \n",
      "_________________________________________________________________\n",
      "l3 (Dense)                   (None, 100)               20100     \n",
      "_________________________________________________________________\n",
      "l4 (Dense)                   (None, 50)                5050      \n",
      "_________________________________________________________________\n",
      "l5 (Dense)                   (None, 10)                510       \n",
      "=================================================================\n",
      "Total params: 419,860\n",
      "Trainable params: 419,860\n",
      "Non-trainable params: 0\n",
      "_________________________________________________________________\n"
     ]
    }
   ],
   "source": [
    "model.summary()"
   ]
  },
  {
   "cell_type": "code",
   "execution_count": 10,
   "metadata": {},
   "outputs": [],
   "source": [
    "model.compile(optimizer='adam', metrics=['accuracy'], loss='categorical_crossentropy')"
   ]
  },
  {
   "cell_type": "code",
   "execution_count": 11,
   "metadata": {},
   "outputs": [
    {
     "name": "stdout",
     "output_type": "stream",
     "text": [
      "Train on 13399 samples\n",
      "Epoch 1/10\n",
      "13399/13399 [==============================] - 3s 228us/sample - loss: 1.8035 - accuracy: 0.8032\n",
      "Epoch 2/10\n",
      "13399/13399 [==============================] - 2s 180us/sample - loss: 0.3118 - accuracy: 0.9214\n",
      "Epoch 3/10\n",
      "13399/13399 [==============================] - 2s 183us/sample - loss: 0.2104 - accuracy: 0.9430\n",
      "Epoch 4/10\n",
      "13399/13399 [==============================] - 2s 172us/sample - loss: 0.1535 - accuracy: 0.9547\n",
      "Epoch 5/10\n",
      "13399/13399 [==============================] - 2s 168us/sample - loss: 0.1492 - accuracy: 0.9590\n",
      "Epoch 6/10\n",
      "13399/13399 [==============================] - 2s 169us/sample - loss: 0.1365 - accuracy: 0.9614\n",
      "Epoch 7/10\n",
      "13399/13399 [==============================] - 2s 169us/sample - loss: 0.1101 - accuracy: 0.9670\n",
      "Epoch 8/10\n",
      "13399/13399 [==============================] - 2s 170us/sample - loss: 0.1332 - accuracy: 0.9639\n",
      "Epoch 9/10\n",
      "13399/13399 [==============================] - 2s 175us/sample - loss: 0.1290 - accuracy: 0.9664\n",
      "Epoch 10/10\n",
      "13399/13399 [==============================] - 2s 176us/sample - loss: 0.0969 - accuracy: 0.9728\n"
     ]
    },
    {
     "data": {
      "text/plain": [
       "<tensorflow.python.keras.callbacks.History at 0x2480fc9b088>"
      ]
     },
     "execution_count": 11,
     "metadata": {},
     "output_type": "execute_result"
    }
   ],
   "source": [
    "model.fit(X_train, y_train, epochs=10)"
   ]
  },
  {
   "cell_type": "code",
   "execution_count": 25,
   "metadata": {},
   "outputs": [
    {
     "data": {
      "text/plain": [
       "6"
      ]
     },
     "execution_count": 25,
     "metadata": {},
     "output_type": "execute_result"
    },
    {
     "data": {
      "image/png": "[encoded data removed]",
      "text/plain": [
       "<Figure size 432x288 with 1 Axes>"
      ]
     },
     "metadata": {
      "needs_background": "light"
     },
     "output_type": "display_data"
    }
   ],
   "source": [
    "img = Image.open('../datasets/nums/eight.jpeg')\n",
    "\n",
    "img = img.resize(size=(28, 28))\n",
    "\n",
    "new = 255 - np.array(img).mean(axis=2)\n",
    "\n",
    "plt.imshow(new, cmap='gray')\n",
    "\n",
    "model.predict(np.array([new.flatten()])).argmax()"
   ]
  },
  {
   "cell_type": "code",
   "execution_count": 46,
   "metadata": {},
   "outputs": [],
   "source": []
  },
  {
   "cell_type": "code",
   "execution_count": null,
   "metadata": {},
   "outputs": [],
   "source": []
  }
 ],
 "metadata": {
  "kernelspec": {
   "display_name": "Python 3",
   "language": "python",
   "name": "python3"
  },
  "language_info": {
   "codemirror_mode": {
    "name": "ipython",
    "version": 3
   },
   "file_extension": ".py",
   "mimetype": "text/x-python",
   "name": "python",
   "nbconvert_exporter": "python",
   "pygments_lexer": "ipython3",
   "version": "3.7.6"
  }
 },
 "nbformat": 4,
 "nbformat_minor": 4
}
