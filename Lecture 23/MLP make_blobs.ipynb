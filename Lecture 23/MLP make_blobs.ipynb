{
 "cells": [
  {
   "cell_type": "code",
   "execution_count": 1,
   "metadata": {},
   "outputs": [],
   "source": [
    "from tensorflow.keras.models import Sequential\n",
    "from tensorflow.keras.layers import Dense\n",
    "\n",
    "from sklearn.datasets import make_blobs\n",
    "\n",
    "import matplotlib.pyplot as plt\n",
    "from sklearn.preprocessing import OneHotEncoder\n",
    "from sklearn.model_selection import train_test_split"
   ]
  },
  {
   "cell_type": "code",
   "execution_count": 2,
   "metadata": {},
   "outputs": [],
   "source": [
    "X, y = make_blobs(10000, centers=4, random_state=42)"
   ]
  },
  {
   "cell_type": "code",
   "execution_count": 3,
   "metadata": {},
   "outputs": [
    {
     "data": {
      "text/plain": [
       "<matplotlib.collections.PathCollection at 0x2cf75c74e88>"
      ]
     },
     "execution_count": 3,
     "metadata": {},
     "output_type": "execute_result"
    },
    {
     "data": {
      "image/png": "[encoded data removed]",
      "text/plain": [
       "<Figure size 432x288 with 1 Axes>"
      ]
     },
     "metadata": {
      "needs_background": "light"
     },
     "output_type": "display_data"
    }
   ],
   "source": [
    "plt.scatter(X[:, 0], X[:, 1], c=y)"
   ]
  },
  {
   "cell_type": "code",
   "execution_count": 4,
   "metadata": {},
   "outputs": [],
   "source": [
    "y_hot = OneHotEncoder().fit_transform(y.reshape(-1, 1)).todense()"
   ]
  },
  {
   "cell_type": "code",
   "execution_count": 5,
   "metadata": {},
   "outputs": [],
   "source": [
    "X_train, X_test, y_train, y_test = train_test_split(\n",
    "...     X, y_hot, test_size=0.33, random_state=42)"
   ]
  },
  {
   "cell_type": "code",
   "execution_count": 6,
   "metadata": {},
   "outputs": [],
   "source": [
    "model = Sequential()\n",
    "model.add(Dense(5, input_shape=(2,), activation=\"sigmoid\", name=\"l1\"))\n",
    "model.add(Dense(4, activation=\"softmax\", name=\"l2\"))"
   ]
  },
  {
   "cell_type": "code",
   "execution_count": 7,
   "metadata": {},
   "outputs": [
    {
     "name": "stdout",
     "output_type": "stream",
     "text": [
      "Model: \"sequential\"\n",
      "_________________________________________________________________\n",
      "Layer (type)                 Output Shape              Param #   \n",
      "=================================================================\n",
      "l1 (Dense)                   (None, 5)                 15        \n",
      "_________________________________________________________________\n",
      "l2 (Dense)                   (None, 4)                 24        \n",
      "=================================================================\n",
      "Total params: 39\n",
      "Trainable params: 39\n",
      "Non-trainable params: 0\n",
      "_________________________________________________________________\n"
     ]
    }
   ],
   "source": [
    "model.summary()"
   ]
  },
  {
   "cell_type": "code",
   "execution_count": 8,
   "metadata": {},
   "outputs": [],
   "source": [
    "model.compile(optimizer=\"adam\",\n",
    "    loss=\"categorical_crossentropy\",\n",
    "    metrics=[\"accuracy\"])"
   ]
  },
  {
   "cell_type": "code",
   "execution_count": 9,
   "metadata": {},
   "outputs": [
    {
     "name": "stdout",
     "output_type": "stream",
     "text": [
      "Train on 6700 samples\n",
      "Epoch 1/10\n",
      "6700/6700 [==============================] - 3s 448us/sample - loss: 1.2672 - accuracy: 0.3372\n",
      "Epoch 2/10\n",
      "6700/6700 [==============================] - 1s 88us/sample - loss: 0.9067 - accuracy: 0.8630\n",
      "Epoch 3/10\n",
      "6700/6700 [==============================] - 1s 79us/sample - loss: 0.6891 - accuracy: 0.9991\n",
      "Epoch 4/10\n",
      "6700/6700 [==============================] - 0s 71us/sample - loss: 0.5415 - accuracy: 0.9994\n",
      "Epoch 5/10\n",
      "6700/6700 [==============================] - 0s 75us/sample - loss: 0.4266 - accuracy: 0.9994\n",
      "Epoch 6/10\n",
      "6700/6700 [==============================] - 1s 101us/sample - loss: 0.3401 - accuracy: 0.9994\n",
      "Epoch 7/10\n",
      "6700/6700 [==============================] - 1s 91us/sample - loss: 0.2768 - accuracy: 0.9997\n",
      "Epoch 8/10\n",
      "6700/6700 [==============================] - 1s 94us/sample - loss: 0.2292 - accuracy: 0.9997\n",
      "Epoch 9/10\n",
      "6700/6700 [==============================] - 1s 84us/sample - loss: 0.1924 - accuracy: 0.9997\n",
      "Epoch 10/10\n",
      "6700/6700 [==============================] - 1s 86us/sample - loss: 0.1633 - accuracy: 0.9997\n"
     ]
    }
   ],
   "source": [
    "outcome = model.fit(X_train, y_train, epochs=10)"
   ]
  },
  {
   "cell_type": "code",
   "execution_count": null,
   "metadata": {},
   "outputs": [],
   "source": []
  }
 ],
 "metadata": {
  "kernelspec": {
   "display_name": "Python 3",
   "language": "python",
   "name": "python3"
  },
  "language_info": {
   "codemirror_mode": {
    "name": "ipython",
    "version": 3
   },
   "file_extension": ".py",
   "mimetype": "text/x-python",
   "name": "python",
   "nbconvert_exporter": "python",
   "pygments_lexer": "ipython3",
   "version": "3.7.6"
  }
 },
 "nbformat": 4,
 "nbformat_minor": 4
}
