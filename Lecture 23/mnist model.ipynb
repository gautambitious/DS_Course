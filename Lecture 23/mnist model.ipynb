{
 "cells": [
  {
   "cell_type": "code",
   "execution_count": 1,
   "metadata": {},
   "outputs": [],
   "source": [
    "from tensorflow.keras.layers import Input, Dense, Flatten\n",
    "from tensorflow.keras.datasets import mnist\n",
    "from tensorflow.keras.models import Model\n",
    "import matplotlib.pyplot as plt\n",
    "import numpy as np\n",
    "from sklearn.preprocessing import OneHotEncoder"
   ]
  },
  {
   "cell_type": "code",
   "execution_count": 2,
   "metadata": {},
   "outputs": [],
   "source": [
    "from PIL import Image"
   ]
  },
  {
   "cell_type": "code",
   "execution_count": 3,
   "metadata": {},
   "outputs": [],
   "source": [
    "(x_train, y_train), (x_test, y_test) = mnist.load_data()"
   ]
  },
  {
   "cell_type": "code",
   "execution_count": 4,
   "metadata": {},
   "outputs": [
    {
     "data": {
      "text/plain": [
       "(60000, 28, 28)"
      ]
     },
     "execution_count": 4,
     "metadata": {},
     "output_type": "execute_result"
    }
   ],
   "source": [
    "x_train.shape"
   ]
  },
  {
   "cell_type": "code",
   "execution_count": 5,
   "metadata": {},
   "outputs": [],
   "source": [
    "input_layer = Input(shape=(28,28), name='input')\n",
    "flat = Flatten()(input_layer)\n",
    "l1=Dense(400,activation=\"relu\", name='l1')(flat)\n",
    "l2=Dense(200,activation=\"relu\", name='l2')(l1)\n",
    "l3=Dense(100,activation=\"relu\", name='l3')(l2)\n",
    "l4=Dense(50,activation=\"relu\", name='l4')(l3)\n",
    "out_layer=Dense(10,activation=\"softmax\", name='l5')(l4)"
   ]
  },
  {
   "cell_type": "code",
   "execution_count": 6,
   "metadata": {},
   "outputs": [],
   "source": [
    "model = Model(inputs=[input_layer], outputs=[out_layer])"
   ]
  },
  {
   "cell_type": "code",
   "execution_count": 7,
   "metadata": {},
   "outputs": [
    {
     "name": "stdout",
     "output_type": "stream",
     "text": [
      "Model: \"model\"\n",
      "_________________________________________________________________\n",
      "Layer (type)                 Output Shape              Param #   \n",
      "=================================================================\n",
      "input (InputLayer)           [(None, 28, 28)]          0         \n",
      "_________________________________________________________________\n",
      "flatten (Flatten)            (None, 784)               0         \n",
      "_________________________________________________________________\n",
      "l1 (Dense)                   (None, 400)               314000    \n",
      "_________________________________________________________________\n",
      "l2 (Dense)                   (None, 200)               80200     \n",
      "_________________________________________________________________\n",
      "l3 (Dense)                   (None, 100)               20100     \n",
      "_________________________________________________________________\n",
      "l4 (Dense)                   (None, 50)                5050      \n",
      "_________________________________________________________________\n",
      "l5 (Dense)                   (None, 10)                510       \n",
      "=================================================================\n",
      "Total params: 419,860\n",
      "Trainable params: 419,860\n",
      "Non-trainable params: 0\n",
      "_________________________________________________________________\n"
     ]
    }
   ],
   "source": [
    "model.summary()"
   ]
  },
  {
   "cell_type": "code",
   "execution_count": 8,
   "metadata": {},
   "outputs": [],
   "source": [
    "model.compile(loss='categorical_crossentropy', optimizer='adam', metrics=['accuracy'])"
   ]
  },
  {
   "cell_type": "code",
   "execution_count": 9,
   "metadata": {},
   "outputs": [],
   "source": [
    "y_hot_train = OneHotEncoder().fit_transform(y_train.reshape(-1,1)).todense()\n",
    "y_hot_test = OneHotEncoder().fit_transform(y_test.reshape(-1,1)).todense()"
   ]
  },
  {
   "cell_type": "code",
   "execution_count": 10,
   "metadata": {},
   "outputs": [
    {
     "name": "stdout",
     "output_type": "stream",
     "text": [
      "Train on 60000 samples\n",
      "Epoch 1/8\n",
      "60000/60000 [==============================] - 10s 169us/sample - loss: 0.7067 - accuracy: 0.8987\n",
      "Epoch 2/8\n",
      "60000/60000 [==============================] - 8s 139us/sample - loss: 0.1845 - accuracy: 0.9483\n",
      "Epoch 3/8\n",
      "60000/60000 [==============================] - 8s 132us/sample - loss: 0.1407 - accuracy: 0.9593\n",
      "Epoch 4/8\n",
      "60000/60000 [==============================] - 8s 141us/sample - loss: 0.1241 - accuracy: 0.9648\n",
      "Epoch 5/8\n",
      "60000/60000 [==============================] - 10s 164us/sample - loss: 0.1077 - accuracy: 0.9701\n",
      "Epoch 6/8\n",
      "60000/60000 [==============================] - 8s 137us/sample - loss: 0.0897 - accuracy: 0.9757\n",
      "Epoch 7/8\n",
      "60000/60000 [==============================] - 8s 128us/sample - loss: 0.0812 - accuracy: 0.9778\n",
      "Epoch 8/8\n",
      "60000/60000 [==============================] - 8s 140us/sample - loss: 0.0731 - accuracy: 0.9805\n"
     ]
    },
    {
     "data": {
      "text/plain": [
       "<tensorflow.python.keras.callbacks.History at 0x2194e12afc8>"
      ]
     },
     "execution_count": 10,
     "metadata": {},
     "output_type": "execute_result"
    }
   ],
   "source": [
    "model.fit(x_train, y_hot_train, epochs=8)"
   ]
  },
  {
   "cell_type": "code",
   "execution_count": 12,
   "metadata": {},
   "outputs": [
    {
     "name": "stdout",
     "output_type": "stream",
     "text": [
      "Train on 10000 samples\n",
      "Epoch 1/8\n",
      "10000/10000 [==============================] - 2s 165us/sample - loss: 0.1021 - accuracy: 0.9715\n",
      "Epoch 2/8\n",
      "10000/10000 [==============================] - 1s 142us/sample - loss: 0.0628 - accuracy: 0.9825\n",
      "Epoch 3/8\n",
      "10000/10000 [==============================] - 1s 130us/sample - loss: 0.0378 - accuracy: 0.9898\n",
      "Epoch 4/8\n",
      "10000/10000 [==============================] - 1s 130us/sample - loss: 0.0331 - accuracy: 0.9895\n",
      "Epoch 5/8\n",
      "10000/10000 [==============================] - 1s 128us/sample - loss: 0.0280 - accuracy: 0.9914\n",
      "Epoch 6/8\n",
      "10000/10000 [==============================] - 1s 148us/sample - loss: 0.0167 - accuracy: 0.9944\n",
      "Epoch 7/8\n",
      "10000/10000 [==============================] - 1s 127us/sample - loss: 0.0271 - accuracy: 0.9919\n",
      "Epoch 8/8\n",
      "10000/10000 [==============================] - 1s 131us/sample - loss: 0.0359 - accuracy: 0.9914\n"
     ]
    },
    {
     "data": {
      "text/plain": [
       "<tensorflow.python.keras.callbacks.History at 0x2194fd1ce48>"
      ]
     },
     "execution_count": 12,
     "metadata": {},
     "output_type": "execute_result"
    }
   ],
   "source": [
    "model.fit(x_test, y_hot_test, epochs=8)"
   ]
  },
  {
   "cell_type": "code",
   "execution_count": 30,
   "metadata": {},
   "outputs": [
    {
     "data": {
      "text/plain": [
       "array([[6, 0, 4, 2, 7, 1, 5, 9, 8, 3]], dtype=int64)"
      ]
     },
     "execution_count": 30,
     "metadata": {},
     "output_type": "execute_result"
    },
    {
     "data": {
      "image/png": "[encoded data removed]",
      "text/plain": [
       "<Figure size 432x288 with 1 Axes>"
      ]
     },
     "metadata": {
      "needs_background": "light"
     },
     "output_type": "display_data"
    }
   ],
   "source": [
    "img = Image.open('../datasets/nums/four.jpeg')\n",
    "\n",
    "img = img.resize(size=(28, 28))\n",
    "new = 255 - np.array(img).mean(axis=2)\n",
    "plt.imshow(new, cmap='gray')\n",
    "# np.array([new]).shape\n",
    "model.predict(np.array([new])).argsort()"
   ]
  },
  {
   "cell_type": "code",
   "execution_count": 13,
   "metadata": {},
   "outputs": [
    {
     "data": {
      "text/plain": [
       "[0.026951812, 0.9923]"
      ]
     },
     "execution_count": 13,
     "metadata": {},
     "output_type": "execute_result"
    }
   ],
   "source": [
    "model.test_on_batch(x_test, y_hot_test)"
   ]
  },
  {
   "cell_type": "code",
   "execution_count": 14,
   "metadata": {},
   "outputs": [
    {
     "data": {
      "text/plain": [
       "<matplotlib.image.AxesImage at 0x2194fce45c8>"
      ]
     },
     "execution_count": 14,
     "metadata": {},
     "output_type": "execute_result"
    },
    {
     "data": {
      "image/png": "[encoded data removed]",
      "text/plain": [
       "<Figure size 432x288 with 1 Axes>"
      ]
     },
     "metadata": {
      "needs_background": "light"
     },
     "output_type": "display_data"
    }
   ],
   "source": [
    "sample  = np.load('image.npy')\n",
    "\n",
    "plt.imshow(sample, cmap='gray')"
   ]
  },
  {
   "cell_type": "code",
   "execution_count": 15,
   "metadata": {},
   "outputs": [
    {
     "data": {
      "text/plain": [
       "3"
      ]
     },
     "execution_count": 15,
     "metadata": {},
     "output_type": "execute_result"
    }
   ],
   "source": [
    "model.predict(np.array([sample])).argmax()"
   ]
  },
  {
   "cell_type": "code",
   "execution_count": 16,
   "metadata": {},
   "outputs": [],
   "source": [
    "model.save('model.h5')"
   ]
  },
  {
   "cell_type": "code",
   "execution_count": null,
   "metadata": {},
   "outputs": [],
   "source": []
  }
 ],
 "metadata": {
  "kernelspec": {
   "display_name": "Python 3",
   "language": "python",
   "name": "python3"
  },
  "language_info": {
   "codemirror_mode": {
    "name": "ipython",
    "version": 3
   },
   "file_extension": ".py",
   "mimetype": "text/x-python",
   "name": "python",
   "nbconvert_exporter": "python",
   "pygments_lexer": "ipython3",
   "version": "3.7.6"
  }
 },
 "nbformat": 4,
 "nbformat_minor": 4
}
